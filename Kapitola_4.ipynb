{
 "metadata": {
  "name": "Kapitola_4"
 },
 "nbformat": 3,
 "nbformat_minor": 0,
 "worksheets": [
  {
   "cells": [
    {
     "cell_type": "markdown",
     "metadata": {},
     "source": "<a name='Kapitola_4'></a> Kapitola 4:\n====\nObjektovo orientovan\u00e9 programovanie\n====\n\nV tejto kapitole je prezentovan\u00e1 z\u00e1kladna vlastnos\u0165 Python jazyka - objektov\u00e1 orient\u00e1cia"
    },
    {
     "cell_type": "markdown",
     "metadata": {},
     "source": "Obsah\n---\n- [\u00davod](#uvod)\n- [Object Methods](#object_methods)\n- [Class And Object Variables](#class_and_object_variable)\n- [Inheritance](#inheritance)"
    },
    {
     "cell_type": "markdown",
     "metadata": {},
     "source": "<a name='uvod'></a>\u00davod\n-----\nV programovan\u00ed sa vivinulo viacero pr\u00edstupov k tvorbe programu a manipul\u00e1cii s k\u00f3dom na z\u00e1klade potrieb rie\u0161en\u00e9ho probl\u00e9mu. Doteraz sme pristupovali k programu z funkcion\u00e1lneho pr\u00edstupu (resp. procedur\u00e1lny pr\u00edstup), t.j. program bol tvoren\u00fd cez funkcie. Funckie zober\u00fa argumenty spracuj\u00fa ich a v\u00fdsledkom je v\u00fdstup, kto\u00fd m\u00f4\u017ee by\u0165 op\u00e4tovne nov\u00fdm vstupom pre in\u00fa funkciu. Tento pr\u00edstup je efekt\u00edvny a patr\u00ed medzi tradi\u010dn\u00e9 pr\u00edstupy k programovaniu. \u010eal\u0161\u00edm historicky mlad\u0161\u00edm pr\u00edstupom je objektovo orientovan\u00e9 programovanie. Tento pr\u00edstup sa vyvinul hlavne v d\u00f4sledku potreby pr\u00e1ce s v\u00e4\u010d\u0161\u00edm rozsahom programu (+ niektor\u00e9 probl\u00e9my je jednoduch\u0161ie rie\u0161i\u0165 t\u00fdmto pr\u00edstupom) - pozn. procedur\u00e1lne programovanie je vhodnej\u0161ie pre men\u0161ie programy. V podstate je v\u0161ak jedno ak\u00fd pr\u00edstup k programovaniu sa pou\u017eije, v\u00fdsledok m\u00f4\u017ee by\u0165 navonok rovnak\u00fd, rozdiel je v v sp\u00f4sobe v\u00fdstavby programu.  \n\nObjektovo orientovan\u00e9 programovanie sp\u00e1ja (zaba\u013euje) d\u00e1ta and funkcie do *object*/*objektu*. V\u00fdsledkom je n\u00e1sledne pr\u00e1ca u\u017e s t\u00fdmito objektami.\n"
    },
    {
     "cell_type": "markdown",
     "metadata": {},
     "source": "<a name='vytvorenie_objektu'></a>Vytvorenie objektu\n----\nMedzi z\u00e1kladn\u00e9 pojmy objektov\u00e9ho porgramovania patr\u00ed *class* a *object*.\n\n*Class* predstavuje ur\u010dit\u00fd typ / druh(zatriedenie) objektu pri\u010dom *object* predstavuje konkr\u00e9tnu realiz\u00e1ciu vr\u00e1mci danej skupiny (instance). Pr\u00edkladom je trieda *list*, ktor\u00e1 bola predstaven\u00e1 pri d\u00e1tov\u00fdch \u0161trukt\u00farach. Ak vytvor\u00edme premenn\u00fa *A=['apple', 'mango', 'carrot', 'banana']*; *A* je objekt. "
    },
    {
     "cell_type": "code",
     "collapsed": false,
     "input": "# vytvorenie 'class' 'triedy'\nclass osoba:\n    pass\n\n# vytvorenie objektu \njanko=osoba()\n\nprint(janko)",
     "language": "python",
     "metadata": {},
     "outputs": [
      {
       "output_type": "stream",
       "stream": "stdout",
       "text": "<__main__.osoba object at 0x1e55490>\n"
      }
     ],
     "prompt_number": 6
    },
    {
     "cell_type": "markdown",
     "metadata": {},
     "source": "*\"print(janko)\"* vr\u00e1tilo *\"\\_\\_main\\_\\_.osoba\"* to hovor\u00ed o tom, \u017ee m\u00e1me objekt triedy *osoba* v \"\\_\\_main\\_\\_\" module. \nOzna\u010denie 0x1e55490 predstavuje umiestnenie objektu v pam\u00e4ti po\u010d\u00edta\u010da. Pou\u017eitie resp. pr\u00e1ca s pam\u00e4tou n\u00e1s nezauj\u00edma, t\u00fato \u010dinnos\u0165 vykon\u00e1va Python za n\u00e1s - Python patri mezdi high level jazyky t.j. nem\u00fasime sa zaobera\u0165 \u010dinnos\u0165ami na najni\u017es\u00edch \u00farov\u0148ach programu.\n\n"
    },
    {
     "cell_type": "markdown",
     "metadata": {},
     "source": "[top](#Kapitola_4)\n<hr/>"
    },
    {
     "cell_type": "markdown",
     "metadata": {},
     "source": "<a name='object_methods'></a>Object Methods\n----\n\nMet\u00f3dy funguj\u00fa rovnako ako funkcie s rozdielom pou\u017eitia premennej **self**."
    },
    {
     "cell_type": "code",
     "collapsed": false,
     "input": "class osoba:\n    def pozdrav(self):\n        print(\"Zdrav\u00edm, ako ide heking?\")\n\njanko=osoba()\njanko.pozdrav() #resp. janko().pozdrav()\n\n",
     "language": "python",
     "metadata": {},
     "outputs": [
      {
       "output_type": "stream",
       "stream": "stdout",
       "text": "Zdrav\u00edm, ako ide heking?\n"
      }
     ],
     "prompt_number": 7
    },
    {
     "cell_type": "markdown",
     "metadata": {},
     "source": "<h3>The init method</h3>\n\nPython nako\u013eko je objektovo orientovan\u00fd, m\u00e1 zadefinovan\u00e9 viacer\u00e9 vyhraden\u00e9 v\u00fdrazy pre met\u00f3dy pri pr\u00e1ci s objektami.\n*\\_\\_init\\_\\_* je jednou z nich. *\\_\\_init\\_\\_*  sa pou\u017e\u00edva pri inicializ\u00e1cii objektu hne\u010f pri jeho vytv\u00e1ran\u00ed. \n\nPr\u00edklad:"
    },
    {
     "cell_type": "code",
     "collapsed": false,
     "input": "class osoba:\n    def __init__(self, name):\n        self.name = name\n    def pozdrav(self):\n        print(\"Zdrav\u00edm, vol\u00e1m sa\",self.name,\"\\nAko ide heking?\")\n\njanko=osoba(\"Martin\")\njanko.pozdrav() #resp. janko().pozdrav()",
     "language": "python",
     "metadata": {},
     "outputs": [
      {
       "output_type": "stream",
       "stream": "stdout",
       "text": "Zdrav\u00edm, vol\u00e1m sa Martin \nAko ide heking?\n"
      }
     ],
     "prompt_number": 9
    },
    {
     "cell_type": "markdown",
     "metadata": {},
     "source": "**How It Works:**\n\nHere, we define the *\\_\\_init\\_\\_* method as taking a parameter *name* (along with\nthe usual *self*). Here, we just create a new field also called *name*. Notice these\nare two different variables even though they are both called \u2018name\u2019. There is no\nproblem because the dotted notation *self.name* means that there is something\ncalled \u201cname\u201d that is part of the object called \u201cself\u201d and the other name is a\nlocal variable. Since we explicitly indicate which name we are referring to, there\nis no confusion.\n\nMost importantly, notice that we do not explicitly call the \\_\\_init\\_\\_ method but\npass the arguments in the parentheses following the class name when creating a\nnew instance of the class. This is the special significance of this method.\nNow, we are able to use the *self.name* field in our methods which is demonstrated\nin the *pozdrav* method."
    },
    {
     "cell_type": "markdown",
     "metadata": {},
     "source": "[top](#Kapitola_4)\n<hr/>"
    },
    {
     "cell_type": "markdown",
     "metadata": {},
     "source": "<a name='class_and_object_variable'></a>Class And Object Variables\n----\n\nPrebrali sme funkcion\u00e1lnu \u010das\u0165 objektov. Druhpu zlo\u017ekou je d\u00e1tova \u010das\u0165 tj. *fields* (polia). *fields* s\u00fa premenn\u00e9 spojen\u00e9 s *namespaces* tried a objektov (platia iba v kontexte t\u00fdchto tied a objektov).\n\nExistuj\u00fa dva druhy *fields* - premenn\u00e9 triedy a premenn\u00e9 objektov.\n\n*Class variables* are shared - they can be accessed by all instances of that class.\nThere is only one copy of the class variable and when any one object makes a\nchange to a class variable, that change will be seen by all the other instances.\n\n*Object variables* are owned by each individual object/instance of the class. In\nthis case, each object has its own copy of the field i.e. they are not shared and\nare not related in any way to the field by the same name in a different instance."
    },
    {
     "cell_type": "code",
     "collapsed": false,
     "input": "class Robot:\n    \"\"\"Represents a robot, with a name.\"\"\"\n    # A class variable, counting the number of robots\n    population = 0\n    \n    def __init__(self, name):\n        \"\"\"Initializes the data.\"\"\"\n        self.name = name\n        print(\"(Initializing {0})\".format(self.name))\n        \n        # When this person is created, the robot\n        # adds to the population\n        Robot.population += 1\n        \n    def die(self):\n        \"\"\"I am dying.\"\"\"\n        print(\"{0} is being destroyed!\".format(self.name))\n        \n        Robot.population -= 1\n        \n        if Robot.population == 0:\n            print(\"{0} was the last one.\".format(self.name))\n        else:\n            print(\"There are still {0:d} robots working.\".format(\nRobot.population))\n            \n    def sayHi(self):\n        \"\"\"Greeting by the robot.\n\n         Yeah, they can do that.\"\"\"\n        print(\"Greetings, my masters call me {0}.\".format(self.name))\n\n    @classmethod\n    def howMany(cls):\n        \"\"\"Prints the current population.\"\"\"\n        print(\"We have {0:d} robots.\".format(cls.population))\n\ndroid1 = Robot(\"R2-D2\")\ndroid1.sayHi()\nRobot.howMany()\n\ndroid2 = Robot(\"C-3PO\")\ndroid2.sayHi()\nRobot.howMany()\n\nprint(\"\\nRobots can do some work here.\\n\")\n\nprint(\"Robots have finished their work. So let's destroy them.\")\ndroid1.die()\ndroid2.die()\n\nRobot.howMany()",
     "language": "python",
     "metadata": {},
     "outputs": [
      {
       "output_type": "stream",
       "stream": "stdout",
       "text": "(Initializing R2-D2)\nGreetings, my masters call me R2-D2.\nWe have 1 robots.\n(Initializing C-3PO)\nGreetings, my masters call me C-3PO.\nWe have 2 robots.\n\nRobots can do some work here.\n\nRobots have finished their work. So let's destroy them.\nR2-D2 is being destroyed!\nThere are still 1 robots working.\nC-3PO is being destroyed!\nC-3PO was the last one.\nWe have 0 robots.\n"
      }
     ],
     "prompt_number": 12
    },
    {
     "cell_type": "markdown",
     "metadata": {},
     "source": "**How It Works:**\n\nHere, *population* belongs to *theRobot* class and hence is a class\nvariable. The *name* variable belongs to the object (it is assigned using *self*) and hence is an object variable.\n\nThus, we refer to the *population* class variable as *Robot.population* and not as *self.population*. We refer to the object variable *name* using *self.name* notation in the methods of that object. Remember this simple difference between class and object variables. Also note that an object variable with the same name as a class variable will hide the class variable!\n\nInstead of *Robot.population*, we could have also used *self.\\_\\_class\\_\\_.population* because every object refers to it\u2019s class via the *self.\\_\\_class\\_\\_* attribute.\n\nThe *howMany* is actually a method that belongs to the class and not to the object. This means we can define it as either a *classmethod* or a *staticmethod* depending on whether we need to know which class we are part of. Since we refer to a class variable, let\u2019s use *classmethod*.\n\nWe have marked the *howMany* method as a class method using a *decorator*.\n\nDecorators can be imagined to be a shortcut to calling a wrapper function, so applying the *@classmethod* decorator is same as calling:\n\n*howMany = classmethod(howMany)*\n\nObserve that the *\\_\\_init\\_\\_* method is used to initialize the *Robot* instance with a name. In this method, we increase the *population* count by 1 since we have one more robot being added. Also observe that the values of *self.name* is specific to each object which indicates the nature of object variables.\n\nRemember, that you must refer to the variables and methods of the same object using the *self* **only**. This is called an *attribute reference*.\n\nIn this program, we also see the use of **docstrings** for classes as well as methods. We can access the class docstring at runtime using *Robot.\\_\\_doc\\_\\_* and the method docstring as *Robot.sayHi.\\_\\_doc\\_\\_*\n\nIn the *die* method, we simply decrease the *Robot.population* count by 1.\n\nAll class members are public. One exception: If you use data members with\nnames using the *double underscore prefix* such as *\\_\\_privatevar*, Python uses name-mangling to effectively make it a private variable.\n\nThus, the convention followed is that any variable that is to be used only within the class or object should begin with an underscore and all other names are public and can be used by other classes/objects. Remember that this is only a convention and is not enforced by Python (except for the double underscore prefix).\n\n\n"
    },
    {
     "cell_type": "markdown",
     "metadata": {},
     "source": "[top](#Kapitola_4)\n<hr/>"
    },
    {
     "cell_type": "markdown",
     "metadata": {},
     "source": "<a name='inheritance'></a>Inheritance\n----\nOne of the major benefits of object oriented programming is **reuse** of code and\none of the ways this is achieved is through the *inheritance* mechanism. Inheritance\ncan be best imagined as implementing a *type and subtype* relationship between\nclasses."
    },
    {
     "cell_type": "code",
     "collapsed": false,
     "input": "class SchoolMember:\n    '''Represents any school member.'''\n    def __init__(self, name, age):\n        self.name = name\n        self.age = age\n        print('(Initialized SchoolMember: {0})'.format(self.name))\n        \n    def tell(self):\n        '''Tell my details.'''\n        print('Name:\"{0}\" Age:\"{1}\"'.format(self.name, self.age), end=\" \")\n        \nclass Teacher(SchoolMember):\n    '''Represents a teacher.'''\n    def __init__(self, name, age, salary):\n        SchoolMember.__init__(self, name, age)\n        self.salary = salary\n        print('(Initialized Teacher: {0})'.format(self.name))\n        \n    def tell(self):\n        SchoolMember.tell(self)\n        print('Salary: \"{0:d}\"'.format(self.salary))\n        \nclass Student(SchoolMember):\n    '''Represents a student.'''\n    def __init__(self, name, age, marks):\n        SchoolMember.__init__(self, name, age)\n        self.marks = marks\n        print('(Initialized Student: {0})'.format(self.name))\n        \n    def tell(self):\n        SchoolMember.tell(self)\n        print('Marks: \"{0:d}\"'.format(self.marks))\n\n\nt = Teacher('J. Erudit', 40, 30000)\ns = Student('Bystr', 25, 75)\n\nprint() # prints a blank line\nmembers = [t, s]\nfor member in members:\n    member.tell() # works for both Teachers and Students",
     "language": "python",
     "metadata": {},
     "outputs": [
      {
       "output_type": "stream",
       "stream": "stdout",
       "text": "(Initialized SchoolMember: J. Erudit)\n(Initialized Teacher: J. Erudit)\n(Initialized SchoolMember: Bystr)\n(Initialized Student: Bystr)\n\nName:\"J. Erudit\" Age:\"40\" Salary: \"30000\"\nName:\"Bystr\" Age:\"25\" Marks: \"75\"\n"
      }
     ],
     "prompt_number": 13
    },
    {
     "cell_type": "markdown",
     "metadata": {},
     "source": "[top](#Kapitola_4)\n<hr/>"
    }
   ],
   "metadata": {}
  }
 ]
}