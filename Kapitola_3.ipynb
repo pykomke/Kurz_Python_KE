{
 "metadata": {
  "name": ""
 },
 "nbformat": 3,
 "nbformat_minor": 0,
 "worksheets": [
  {
   "cells": [
    {
     "cell_type": "markdown",
     "metadata": {},
     "source": [
      "<a name='Kapitola_3'></a> Kapitola 3:\n",
      "====\n",
      "Data Structures, Control Flow, and Functions \n",
      "===="
     ]
    },
    {
     "cell_type": "markdown",
     "metadata": {},
     "source": [
      "Obsah\n",
      "---\n",
      "- [Data Structures](#data_structures)\n",
      "- [Control Flow](#control_flow)\n",
      "- [Functions](#funkcie)\n"
     ]
    },
    {
     "cell_type": "markdown",
     "metadata": {},
     "source": [
      "<a name='data_structures'></a>D\u00e1tove \u0161trukt\u00fary\n",
      "-----\n",
      "V predch\u00e1dzaj\u00facej kapitole boli uveden\u00e9 premenn\u00e9 a kon\u0161tanty. Pre zjednodu\u0161enie pr\u00e1ce s d\u00e1tami boli prirodzene vytvoren\u00e9 ur\u010dit\u00e9 d\u00e1tov\u00e9 \u0161trukt\u00fary ktor\u00e9 bud\u00fa rozobrat\u00e9 v tejto kapitole. \n",
      "Motiv\u00e1ciou pre vznik d\u00e1tov\u00fdch \u0161trukt\u00far je napr\u00edklad vykonanie oper\u00e1cie na celom s\u00fabore prvkov ne\u017e napr. na jednotliv\u00fdch premenn\u00fdch.\n",
      "Nasleduj\u00faci zoznam nie je vy\u010derp\u00e1vaj\u00faci a sl\u00fa\u017ei ako preh\u013ead najpou\u017e\u00edvanej\u0161\u00edch d\u00e1tov\u00fdch \u0161trukt\u00far. Jednotliv\u00e9 rozdiely a mo\u017enosti pr\u00e1ce s nimi si u\u017e\u00edvate\u013e osvoj\u00ed pri pr\u00e1ci s nimi a nie je ich potrebn\u00e9 memorova\u0165 do detailu.\n",
      "\n",
      "Medzi z\u00e1kladn\u00e9 d\u00e1tov\u00e9 \u0161trukt\u00fary patr\u00ed:\n",
      "\n",
      "- List,\n",
      "- Tuple,\n",
      "- Dictionary,\n",
      "- Sequence,\n",
      "- Set,\n",
      "- References.\n",
      "\n"
     ]
    },
    {
     "cell_type": "markdown",
     "metadata": {},
     "source": [
      "<h3>List</h3>\n",
      "\n",
      "A list is a data structure that holds an ordered collection of items i.e. you can store a *sequence* of items in a list.\n",
      "\n",
      "The list of items should be enclosed in square brackets so that Python understands that you are specifying a list. Once you have created a list, you can add, remove or search for items in the list. Since we can add and remove items, we say that a list is a *mutable* data type i.e. this type can be altered."
     ]
    },
    {
     "cell_type": "code",
     "collapsed": false,
     "input": [
      "# priklad listu\n",
      "les=['dub','buk','lipa','breza']\n",
      "print(\"Tento list m\u00e1\",len(les),\"polo\u017eiek\")"
     ],
     "language": "python",
     "metadata": {},
     "outputs": [
      {
       "output_type": "stream",
       "stream": "stdout",
       "text": [
        "('Tento list m\\xc3\\xa1', 4, 'polo\\xc5\\xbeiek')\n"
       ]
      }
     ],
     "prompt_number": 8
    },
    {
     "cell_type": "code",
     "collapsed": false,
     "input": [
      "# zoradenie listu\n",
      "les.sort()\n",
      "print('Zoradeny predosly list vyzera takto', les)\n",
      "# v\u0161imnite si \u017ee funkcia .sort() pozmenila p\u00f4vodny list"
     ],
     "language": "python",
     "metadata": {},
     "outputs": [
      {
       "output_type": "stream",
       "stream": "stdout",
       "text": [
        "('Zoradeny predosly list vyzera takto', ['breza', 'buk', 'dub', 'lipa'])\n"
       ]
      }
     ],
     "prompt_number": 9
    },
    {
     "cell_type": "code",
     "collapsed": false,
     "input": [
      "# pridanie polo\u017eky do listu\n",
      "les.append('jedla')\n",
      "# vymazanie polo\u017eky z listu\n",
      "del les[1]\n",
      "print(les)"
     ],
     "language": "python",
     "metadata": {},
     "outputs": [
      {
       "output_type": "stream",
       "stream": "stdout",
       "text": [
        "['breza', 'dub', 'lipa', 'pridana_polozka', 'pridana_polozka', 'pridana_polozka']\n"
       ]
      }
     ],
     "prompt_number": 12
    },
    {
     "cell_type": "markdown",
     "metadata": {},
     "source": [
      "<h3>Tuple</h3>\n",
      "\n",
      "Tuples are used to hold together multiple objects. Think of them as similar to\n",
      "lists, but without the extensive functionality that the list class gives you. One\n",
      "major feature of tuples is that they are *immutable* like strings i.e. you cannot\n",
      "modify tuples.\n",
      "\n",
      "Tuples are defined by specifying items separated by commas within an optional\n",
      "pair of parentheses.\n",
      "Tuples are usually used in cases where a statement or a user-defined function\n",
      "can safely assume that the collection of values i.e. the tuple of values used will\n",
      "not change"
     ]
    },
    {
     "cell_type": "code",
     "collapsed": false,
     "input": [
      "# priklad tuple, z\u00e1tvorky s\u00fa volite\u013en\u00e9\n",
      "zoo = 'python', 'elephant', 'penguin'\n",
      "print(zoo)\n",
      "zoo = ('python', 'elephant', 'penguin')\n",
      "print(zoo)\n",
      "\n",
      "print('Number of animals in the zoo is', len(zoo))\n",
      "new_zoo = 'monkey', 'camel', zoo\n",
      "print('Number of cages in the new zoo is', len(new_zoo))\n",
      "print('All animals in new zoo are', new_zoo)\n",
      "print('Animals brought from old zoo are', new_zoo[2])\n",
      "print('Last animal brought from old zoo is', new_zoo[2][2])\n",
      "print('Number of animals in the new zoo is', len(new_zoo)-1+len(new_zoo[2]))"
     ],
     "language": "python",
     "metadata": {},
     "outputs": [
      {
       "output_type": "stream",
       "stream": "stdout",
       "text": [
        "('python', 'elephant', 'penguin')\n",
        "('python', 'elephant', 'penguin')\n",
        "('Number of animals in the zoo is', 3)\n",
        "('Number of cages in the new zoo is', 3)\n",
        "('All animals in new zoo are', ('monkey', 'camel', ('python', 'elephant', 'penguin')))\n",
        "('Animals brought from old zoo are', ('python', 'elephant', 'penguin'))\n",
        "('Last animal brought from old zoo is', 'penguin')\n",
        "('Number of animals in the new zoo is', 5)\n"
       ]
      }
     ],
     "prompt_number": 13
    },
    {
     "cell_type": "markdown",
     "metadata": {},
     "source": [
      "<h3>Dictionary</h3>\n",
      "\n",
      "A dictionary is like an address-book where you can find the address or contact\n",
      "details of a person by knowing only his/her name i.e. we associate *keys* (name)\n",
      "with *values* (details). Note that the key must be unique just like you cannot\n",
      "find out the correct information if you have two persons with the exact same\n",
      "name.\n",
      "\n",
      "Note that you can use only immutable objects (like strings) for the keys of a\n",
      "dictionary but you can use either immutable or mutable objects for the values of\n",
      "the dictionary. This basically translates to say that you should use only simple\n",
      "objects for keys.\n",
      "\n",
      "Pairs of keys and values are specified in a dictionary by using the notation **d\n",
      "= {key1 : value1, key2 : value2 }**. Notice that the key-value pairs are\n",
      "separated by a colon and the pairs are separated themselves by commas and all\n",
      "this is enclosed in a pair of curly braces.\n",
      "\n",
      "Remember that key-value pairs in a dictionary are not ordered in any manner.\n",
      "If you want a particular order, then you will have to sort them yourself before\n",
      "using it.\n"
     ]
    },
    {
     "cell_type": "code",
     "collapsed": false,
     "input": [
      "ab = {'Swaroop':'swaroop@swaroopch.com',\n",
      "      'Larry':'swaroop@swaroopch.com',\n",
      "      'Matsumoto':'larry@wall.org',\n",
      "      'Spammer':'spammer@hotmail.com'}\n",
      "print(\"Swaroop's address is\", ab['Swaroop'])"
     ],
     "language": "python",
     "metadata": {},
     "outputs": [
      {
       "output_type": "stream",
       "stream": "stdout",
       "text": [
        "(\"Swaroop's address is\", 'swaroop@swaroopch.com')\n"
       ]
      }
     ],
     "prompt_number": 14
    },
    {
     "cell_type": "code",
     "collapsed": false,
     "input": [
      "# Deleting a key-value pair\n",
      "del ab['Spammer']\n",
      "print(ab)"
     ],
     "language": "python",
     "metadata": {},
     "outputs": []
    },
    {
     "cell_type": "markdown",
     "metadata": {},
     "source": [
      "<h3>Sequence</h3>\n",
      "\n",
      "Lists, tuples and strings are examples of sequences, but what are sequences and\n",
      "what is so special about them?\n",
      "\n",
      "The major features are **membership tests**, (i.e. the **in** and **not in** expressions)\n",
      "and **indexing operations**, which allow us to fetch a particular item in the\n",
      "sequence directly.\n",
      "The three types of sequences mentioned above - lists, tuples and strings, also\n",
      "have a **slicing** operation which allows us to retrieve a slice of the sequence i.e. a\n",
      "part of the sequence.\n"
     ]
    },
    {
     "cell_type": "code",
     "collapsed": false,
     "input": [
      "les=['dub','buk','lipa','breza']\n",
      "name='Von Durrer'"
     ],
     "language": "python",
     "metadata": {},
     "outputs": [],
     "prompt_number": 16
    },
    {
     "cell_type": "code",
     "collapsed": false,
     "input": [
      "# Pr\u00edklad indexovania sekvencie\n",
      "# Indexing or 'Subscription' operation #\n",
      "print('Item 0 is', les[0])\n",
      "print('Item 1 is',les[1])\n",
      "print('Item -1 is', les[-1])\n",
      "print('Character 0 is', name[0])\n",
      "\n",
      "# v liste \"les\" je les[0][1] zodpoveda p\u00edsmeno \"u\"\n",
      "print('Item 0 is', les[0][1])\n"
     ],
     "language": "python",
     "metadata": {},
     "outputs": [
      {
       "output_type": "stream",
       "stream": "stdout",
       "text": [
        "('Item 0 is', 'dub')\n",
        "('Item 1 is', 'buk')\n",
        "('Item -1 is', 'breza')\n",
        "('Character 0 is', 'V')\n",
        "('Item 0 is', 'b')\n"
       ]
      }
     ],
     "prompt_number": 18
    },
    {
     "cell_type": "code",
     "collapsed": false,
     "input": [
      "# Slicing on a list #\n",
      "print('Item 1 to 3 is', les[1:3])\n",
      "print('Item 2 to end is', les[2:])"
     ],
     "language": "python",
     "metadata": {},
     "outputs": [
      {
       "output_type": "stream",
       "stream": "stdout",
       "text": [
        "('Item 1 to 3 is', ['buk', 'lipa'])\n",
        "('Item 2 to end is', ['lipa', 'breza'])\n"
       ]
      }
     ],
     "prompt_number": 19
    },
    {
     "cell_type": "code",
     "collapsed": false,
     "input": [
      "# Slicing on a string #\n",
      "print('characters 1 to 3 is', name[1:3])\n",
      "print('characters 2 to end is', name[2:])"
     ],
     "language": "python",
     "metadata": {},
     "outputs": [
      {
       "output_type": "stream",
       "stream": "stdout",
       "text": [
        "('characters 1 to 3 is', 'on')\n",
        "('characters 2 to end is', 'n Durrer')\n"
       ]
      }
     ],
     "prompt_number": 20
    },
    {
     "cell_type": "markdown",
     "metadata": {},
     "source": [
      "<h3>Set</h3>\n",
      "\n",
      "Sets are *unordered* collections of simple objects. These are used when the\n",
      "existence of an object in a collection is more important than the order or how\n",
      "many times it occurs.\n",
      "\n",
      "Using sets, you can test for membership, whether it is a subset of another set,\n",
      "find the intersection between two sets, and so on.\n",
      "\n"
     ]
    },
    {
     "cell_type": "code",
     "collapsed": false,
     "input": [
      "bri = set(['brazil', 'russia', 'india'])\n",
      "print('india' in bri)\n",
      "print('usa' in bri)\n",
      "# roz\u0161\u00edrenei setu\n",
      "bric = bri.copy() # !!! pozor na k\u00f3piu: bric=bri nie je to to ist\u00e9, rozoberieme v references... \n",
      "bric.add('china')\n",
      "print(bric)"
     ],
     "language": "python",
     "metadata": {},
     "outputs": [
      {
       "output_type": "stream",
       "stream": "stdout",
       "text": [
        "True\n",
        "False\n",
        "set(['brazil', 'china', 'india', 'russia'])\n",
        "True\n"
       ]
      }
     ],
     "prompt_number": 23
    },
    {
     "cell_type": "code",
     "collapsed": false,
     "input": [
      "print(bric.issuperset(bri))\n",
      "bri.remove('russia')\n",
      "print(bri & bric) # OR bri.intersection(bric)"
     ],
     "language": "python",
     "metadata": {},
     "outputs": [
      {
       "output_type": "stream",
       "stream": "stdout",
       "text": [
        "True\n",
        "set(['brazil', 'india'])\n"
       ]
      }
     ],
     "prompt_number": 24
    },
    {
     "cell_type": "markdown",
     "metadata": {},
     "source": [
      "<h3>References</h3>\n",
      "\n",
      "When you create an object and assign it to a variable, the variable only *refers* to\n",
      "the object and does not represent the object itself! That is, the variable name\n",
      "points to that part of your computer\u2019s memory where the object is stored. This\n",
      "is called **binding** the name to the object.\n",
      "\n",
      "Generally, you don\u2019t need to be worried about this, but there is a subtle effect\n",
      "due to references which you need to be aware of:\n",
      "\n"
     ]
    },
    {
     "cell_type": "code",
     "collapsed": false,
     "input": [
      "print(les)\n",
      "novy_les=les # vytvor\u00edme priradenie: # mylist is just another name pointing to the same object!\n",
      "print(novy_les)\n",
      "del les[0] #vymazeme 1. polozku v prvom liste\n",
      "print(novy_les) # zmenou p\u00f4vodn\u00e9ho listu men\u00edme aj nov\u00fd list"
     ],
     "language": "python",
     "metadata": {},
     "outputs": [
      {
       "output_type": "stream",
       "stream": "stdout",
       "text": [
        "['dub', 'buk', 'lipa', 'breza']\n",
        "['dub', 'buk', 'lipa', 'breza']\n",
        "['buk', 'lipa', 'breza']\n"
       ]
      }
     ],
     "prompt_number": 26
    },
    {
     "cell_type": "markdown",
     "metadata": {},
     "source": [
      "[top](#Kapitola_3)\n",
      "<hr/>"
     ]
    },
    {
     "cell_type": "markdown",
     "metadata": {},
     "source": [
      "<a name='control_flow'></a>Control Flow\n",
      "-----\n",
      "Pri postupnom zad\u00e1van\u00ed pr\u00edkazov do Pythona tieto s\u00fa vykon\u00e1vane postupne \"zhora dole\". V pr\u00edpade, \u017ee chceme opakova\u0165 niektor\u00fd pr\u00edkaz 10-kr\u00e1t museli by sme ho zada\u0165 pri tomto pr\u00edstupe op\u00e4tovne 10-kr\u00e1t. Pre zmenu poradia vykon\u00e1van\u00fdch pr\u00edkazov existuj\u00fa v\u00fdrazy ktor\u00e9 umo\u017e\u0148uj\u00fa kontrolova\u0165 *\"tok\"* pr\u00edkazov po\u017eadovan\u00fdm sp\u00f4sobom. V\u00fdsledkom je \"neline\u00e1rny\" priebeh programu resp. vznik vetiev a cyklov. \n",
      "\n",
      "Medzi z\u00e1kladn\u00e9 v\u00fdrazy kontroluj\u00face tok programu patr\u00ed:\n",
      "\n",
      "- if...elif..else\n",
      "- while\n",
      "- for resp. for...in\n",
      "- break\n"
     ]
    },
    {
     "cell_type": "markdown",
     "metadata": {},
     "source": [
      "<h3> if...elif..else </h3> \n",
      "\n",
      "*If* v\u00fdraz sa pou\u017e\u00edva na testovanie splnenia podmienky.\n",
      "Ak je podmienka splnen\u00e1 blok k\u00f3du patriaci pod *if* sa vykon\u00e1 v opa\u010dnom pr\u00edpade sa presko\u010d\u00ed na *else* ak je zvolen\u00fd (*else* je volite\u013en\u00e1 mo\u017enos\u0165 a *if* nemus\u00ed by\u0165 \"uzavret\u00fd\" cez *else*) "
     ]
    },
    {
     "cell_type": "code",
     "collapsed": false,
     "input": [
      "number = 23\n",
      "guess = int(input('Enter an integer : '))\n",
      "\n",
      "if guess == number:\n",
      "    print('Congratulations, you guessed it.') # New block starts here\n",
      "    print('(but you do not win any prizes!)') # New block ends here\n",
      "elif guess < number:\n",
      "    print('No, it is a little higher than that') # Another block\n",
      "    # You can do whatever you want in a block ...\n",
      "else:\n",
      "    print('No, it is a little lower than that')\n",
      "    # you must have guessed > number to reach here\n",
      "\n",
      "print('Done')\n",
      "# This last statement is always executed, after the if statement is executed\n",
      "    \n",
      "# UPOZORNENIE t\u00e1to funkcia m\u00f4\u017ee trva\u0165 dlh\u0161iu dobu \n",
      "# ak vykonanie trv\u00e1 dlh\u0161ie, skontrolujte prav\u00fd horn\u00fd roh pod \"Save\" \"Reload\" tla\u010didlami\n",
      "# ak je vypysan\u00e9: \"Kernel busy\" dlh\u0161iu dobu proces m\u00f4\u017ee by\u0165 preru\u0161en\u00fd cez vo\u013ebu \"Kernel\" v li\u0161te pre pr\u00e1cu s listom\n",
      "# a v\u00fdberom mo\u017enosti \"Interrupt\""
     ],
     "language": "python",
     "metadata": {},
     "outputs": [
      {
       "name": "stdout",
       "output_type": "stream",
       "stream": "stdout",
       "text": [
        "Enter an integer : 4\n"
       ]
      },
      {
       "ename": "KeyboardInterrupt",
       "evalue": "",
       "output_type": "pyerr",
       "traceback": [
        "\u001b[1;31m---------------------------------------------------------------------------\u001b[0m\n\u001b[1;31mKeyboardInterrupt\u001b[0m                         Traceback (most recent call last)",
        "\u001b[1;32m<ipython-input-1-52b6a4c08481>\u001b[0m in \u001b[0;36m<module>\u001b[1;34m()\u001b[0m\n\u001b[0;32m      1\u001b[0m \u001b[0mnumber\u001b[0m \u001b[1;33m=\u001b[0m \u001b[1;36m23\u001b[0m\u001b[1;33m\u001b[0m\u001b[0m\n\u001b[1;32m----> 2\u001b[1;33m \u001b[0mguess\u001b[0m \u001b[1;33m=\u001b[0m \u001b[0mint\u001b[0m\u001b[1;33m(\u001b[0m\u001b[0minput\u001b[0m\u001b[1;33m(\u001b[0m\u001b[1;34m'Enter an integer : '\u001b[0m\u001b[1;33m)\u001b[0m\u001b[1;33m)\u001b[0m\u001b[1;33m\u001b[0m\u001b[0m\n\u001b[0m\u001b[0;32m      3\u001b[0m \u001b[1;33m\u001b[0m\u001b[0m\n\u001b[0;32m      4\u001b[0m \u001b[1;32mif\u001b[0m \u001b[0mguess\u001b[0m \u001b[1;33m==\u001b[0m \u001b[0mnumber\u001b[0m\u001b[1;33m:\u001b[0m\u001b[1;33m\u001b[0m\u001b[0m\n\u001b[0;32m      5\u001b[0m     \u001b[1;32mprint\u001b[0m\u001b[1;33m(\u001b[0m\u001b[1;34m'Congratulations, you guessed it.'\u001b[0m\u001b[1;33m)\u001b[0m \u001b[1;31m# New block starts here\u001b[0m\u001b[1;33m\u001b[0m\u001b[0m\n",
        "\u001b[1;32m/usr/local/sage/sage-5.12/local/lib/python2.7/site-packages/IPython/kernel/zmq/ipkernel.py\u001b[0m in \u001b[0;36m<lambda>\u001b[1;34m(prompt)\u001b[0m\n\u001b[0;32m    354\u001b[0m         \u001b[1;32mif\u001b[0m \u001b[0mcontent\u001b[0m\u001b[1;33m.\u001b[0m\u001b[0mget\u001b[0m\u001b[1;33m(\u001b[0m\u001b[1;34m'allow_stdin'\u001b[0m\u001b[1;33m,\u001b[0m \u001b[0mFalse\u001b[0m\u001b[1;33m)\u001b[0m\u001b[1;33m:\u001b[0m\u001b[1;33m\u001b[0m\u001b[0m\n\u001b[0;32m    355\u001b[0m             \u001b[0mraw_input\u001b[0m \u001b[1;33m=\u001b[0m \u001b[1;32mlambda\u001b[0m \u001b[0mprompt\u001b[0m\u001b[1;33m=\u001b[0m\u001b[1;34m''\u001b[0m\u001b[1;33m:\u001b[0m \u001b[0mself\u001b[0m\u001b[1;33m.\u001b[0m\u001b[0m_raw_input\u001b[0m\u001b[1;33m(\u001b[0m\u001b[0mprompt\u001b[0m\u001b[1;33m,\u001b[0m \u001b[0mident\u001b[0m\u001b[1;33m,\u001b[0m \u001b[0mparent\u001b[0m\u001b[1;33m)\u001b[0m\u001b[1;33m\u001b[0m\u001b[0m\n\u001b[1;32m--> 356\u001b[1;33m             \u001b[0minput\u001b[0m \u001b[1;33m=\u001b[0m \u001b[1;32mlambda\u001b[0m \u001b[0mprompt\u001b[0m\u001b[1;33m=\u001b[0m\u001b[1;34m''\u001b[0m\u001b[1;33m:\u001b[0m \u001b[0meval\u001b[0m\u001b[1;33m(\u001b[0m\u001b[0mraw_input\u001b[0m\u001b[1;33m(\u001b[0m\u001b[0mprompt\u001b[0m\u001b[1;33m)\u001b[0m\u001b[1;33m)\u001b[0m\u001b[1;33m\u001b[0m\u001b[0m\n\u001b[0m\u001b[0;32m    357\u001b[0m         \u001b[1;32melse\u001b[0m\u001b[1;33m:\u001b[0m\u001b[1;33m\u001b[0m\u001b[0m\n\u001b[0;32m    358\u001b[0m             \u001b[0mraw_input\u001b[0m \u001b[1;33m=\u001b[0m \u001b[0minput\u001b[0m \u001b[1;33m=\u001b[0m \u001b[1;32mlambda\u001b[0m \u001b[0mprompt\u001b[0m\u001b[1;33m=\u001b[0m\u001b[1;34m''\u001b[0m \u001b[1;33m:\u001b[0m \u001b[0mself\u001b[0m\u001b[1;33m.\u001b[0m\u001b[0m_no_raw_input\u001b[0m\u001b[1;33m(\u001b[0m\u001b[1;33m)\u001b[0m\u001b[1;33m\u001b[0m\u001b[0m\n",
        "\u001b[1;32m/usr/local/sage/sage-5.12/local/lib/python2.7/site-packages/IPython/kernel/zmq/ipkernel.py\u001b[0m in \u001b[0;36m<lambda>\u001b[1;34m(prompt)\u001b[0m\n\u001b[0;32m    353\u001b[0m         \u001b[1;31m# raw_input in the user namespace.\u001b[0m\u001b[1;33m\u001b[0m\u001b[1;33m\u001b[0m\u001b[0m\n\u001b[0;32m    354\u001b[0m         \u001b[1;32mif\u001b[0m \u001b[0mcontent\u001b[0m\u001b[1;33m.\u001b[0m\u001b[0mget\u001b[0m\u001b[1;33m(\u001b[0m\u001b[1;34m'allow_stdin'\u001b[0m\u001b[1;33m,\u001b[0m \u001b[0mFalse\u001b[0m\u001b[1;33m)\u001b[0m\u001b[1;33m:\u001b[0m\u001b[1;33m\u001b[0m\u001b[0m\n\u001b[1;32m--> 355\u001b[1;33m             \u001b[0mraw_input\u001b[0m \u001b[1;33m=\u001b[0m \u001b[1;32mlambda\u001b[0m \u001b[0mprompt\u001b[0m\u001b[1;33m=\u001b[0m\u001b[1;34m''\u001b[0m\u001b[1;33m:\u001b[0m \u001b[0mself\u001b[0m\u001b[1;33m.\u001b[0m\u001b[0m_raw_input\u001b[0m\u001b[1;33m(\u001b[0m\u001b[0mprompt\u001b[0m\u001b[1;33m,\u001b[0m \u001b[0mident\u001b[0m\u001b[1;33m,\u001b[0m \u001b[0mparent\u001b[0m\u001b[1;33m)\u001b[0m\u001b[1;33m\u001b[0m\u001b[0m\n\u001b[0m\u001b[0;32m    356\u001b[0m             \u001b[0minput\u001b[0m \u001b[1;33m=\u001b[0m \u001b[1;32mlambda\u001b[0m \u001b[0mprompt\u001b[0m\u001b[1;33m=\u001b[0m\u001b[1;34m''\u001b[0m\u001b[1;33m:\u001b[0m \u001b[0meval\u001b[0m\u001b[1;33m(\u001b[0m\u001b[0mraw_input\u001b[0m\u001b[1;33m(\u001b[0m\u001b[0mprompt\u001b[0m\u001b[1;33m)\u001b[0m\u001b[1;33m)\u001b[0m\u001b[1;33m\u001b[0m\u001b[0m\n\u001b[0;32m    357\u001b[0m         \u001b[1;32melse\u001b[0m\u001b[1;33m:\u001b[0m\u001b[1;33m\u001b[0m\u001b[0m\n",
        "\u001b[1;32m/usr/local/sage/sage-5.12/local/lib/python2.7/site-packages/IPython/kernel/zmq/ipkernel.py\u001b[0m in \u001b[0;36m_raw_input\u001b[1;34m(self, prompt, ident, parent)\u001b[0m\n\u001b[0;32m    774\u001b[0m             \u001b[1;32mexcept\u001b[0m \u001b[0mKeyboardInterrupt\u001b[0m\u001b[1;33m:\u001b[0m\u001b[1;33m\u001b[0m\u001b[0m\n\u001b[0;32m    775\u001b[0m                 \u001b[1;31m# re-raise KeyboardInterrupt, to truncate traceback\u001b[0m\u001b[1;33m\u001b[0m\u001b[1;33m\u001b[0m\u001b[0m\n\u001b[1;32m--> 776\u001b[1;33m                 \u001b[1;32mraise\u001b[0m \u001b[0mKeyboardInterrupt\u001b[0m\u001b[1;33m\u001b[0m\u001b[0m\n\u001b[0m\u001b[0;32m    777\u001b[0m             \u001b[1;32melse\u001b[0m\u001b[1;33m:\u001b[0m\u001b[1;33m\u001b[0m\u001b[0m\n\u001b[0;32m    778\u001b[0m                 \u001b[1;32mbreak\u001b[0m\u001b[1;33m\u001b[0m\u001b[0m\n",
        "\u001b[1;31mKeyboardInterrupt\u001b[0m: "
       ]
      }
     ],
     "prompt_number": 1
    },
    {
     "cell_type": "markdown",
     "metadata": {},
     "source": [
      "*elif* v predch\u00e1zdaj\u00facom pr\u00edklade je spojen\u00edm *else* a *if*. Bez pou\u017eitia *elif* by pr\u00edkaz vyzeral nasledovne:"
     ]
    },
    {
     "cell_type": "code",
     "collapsed": false,
     "input": [
      "number = 23\n",
      "guess = int(input('Enter an integer : '))\n",
      "\n",
      "if guess == number:\n",
      "    print('Congratulations, you guessed it.') # New block starts here\n",
      "    print('(but you do not win any prizes!)') # New block ends here\n",
      "else:\n",
      "    if guess < number:\n",
      "        print('No, it is a little higher than that')\n",
      "    else:\n",
      "        print('No, it is a little lower than that')\n",
      "        \n",
      "print('Done')\n",
      "# This last statement is always executed, after the if statement is executed"
     ],
     "language": "python",
     "metadata": {},
     "outputs": [
      {
       "name": "stdout",
       "output_type": "stream",
       "stream": "stdout",
       "text": [
        "Enter an integer : 100\n"
       ]
      },
      {
       "output_type": "stream",
       "stream": "stdout",
       "text": [
        "No, it is a little lower than that\n",
        "Done\n"
       ]
      }
     ],
     "prompt_number": 6
    },
    {
     "cell_type": "markdown",
     "metadata": {},
     "source": [
      "<h3> while </h3> \n",
      "\n",
      "*while* umo\u017enuje opakova\u0165 vykonanie bloku programu pokia\u013e je splnen\u00e1 zadan\u00e1 podmienka:\n",
      "The *while* statement allows you to repeatedly execute a block of statements as\n",
      "long as a condition is true. A *while* statement is an example of what is called a\n",
      "*looping* statement. A *while* statement can have an optional *else* clause."
     ]
    },
    {
     "cell_type": "code",
     "collapsed": false,
     "input": [
      "number = 23\n",
      "running = True\n",
      "\n",
      "while running:\n",
      "    guess = int(input('Enter an integer : '))\n",
      "    \n",
      "    if guess == number:\n",
      "        print('Congratulations, you guessed it.')\n",
      "        running = False # this causes the while loop to stop\n",
      "    elif guess < number:\n",
      "        print('No, it is a little higher than that.')\n",
      "    else:\n",
      "        print('No, it is a little lower than that.')\n",
      "else:\n",
      "    print('The while loop is over.')\n",
      "    # Do anything else you want to do here\n",
      "\n",
      "print('Done')"
     ],
     "language": "python",
     "metadata": {},
     "outputs": []
    },
    {
     "cell_type": "markdown",
     "metadata": {},
     "source": [
      "Pridan\u00edm v\u00fdrazu *while* a podmienky \"running\", je predch\u00e1dzaj\u00faci program h\u00e1dania \u010d\u00edsla dynamicky opakovan\u00fd pokia\u013e h\u00e1dan\u00e9 \u010d\u00edslo nie je uh\u00e1dnut\u00e9. V\u0161imniite si, \u017ee v pr\u00edpade uh\u00e1dnutia \u010d\u00edsla sa podmienka \"running\" zmen\u00ed na False a nov\u00fd cyklus *while* sa nevykon\u00e1 a program pokra\u010duje cez: print('Done')."
     ]
    },
    {
     "cell_type": "markdown",
     "metadata": {},
     "source": [
      "<h3> for </h3> \n",
      "\n",
      "*for ... in* je u\u017eito\u010dn\u00fd v pr\u00edpade ak chceme vykona\u0165 pr\u00edkaz pre jednotliv\u00e9 prvky ur\u010ditej sekvencie/postupnosti (sekvencia nemus\u00ed by\u0165 v\u00fdlu\u010dne \u010d\u00edseln\u00e1 - bli\u017e\u0161ie bola t\u00e9ma rozobrat\u00e1 pri d\u00e1tov\u00fdch \u0161trukt\u00farach)."
     ]
    },
    {
     "cell_type": "code",
     "collapsed": false,
     "input": [
      "for i in range(1, 5):\n",
      "    print('Toto je', i , '. iteracia', sep=\"\")\n",
      "else:\n",
      "    print('The for loop is over')"
     ],
     "language": "python",
     "metadata": {},
     "outputs": [],
     "prompt_number": "*"
    },
    {
     "cell_type": "markdown",
     "metadata": {},
     "source": [
      "<h3> break </h3> \n",
      "\n",
      "V\u00fdraz *break* je ur\u010den\u00fd na ukon\u010denie cyklu hoci i v pr\u00edpade, \u017ee podmienka cyklu nie je \n",
      "*False* alebo sekvenicia nebola iterovan\u00e1 \u00faplne.\n",
      "\n",
      "An important note is that if you break out of a *for* or *while* loop, any corresponding loop *else* block is **not** executed."
     ]
    },
    {
     "cell_type": "code",
     "collapsed": false,
     "input": [
      "while True:\n",
      "    s = input('Enter something : ')\n",
      "    if s == 'quit':\n",
      "        break\n",
      "    print('Length of the string is', len(s))\n",
      "print('Done')"
     ],
     "language": "python",
     "metadata": {},
     "outputs": [],
     "prompt_number": "*"
    },
    {
     "cell_type": "markdown",
     "metadata": {},
     "source": [
      "[top](#Kapitola_3)\n",
      "<hr/>"
     ]
    },
    {
     "cell_type": "markdown",
     "metadata": {},
     "source": [
      "<a name='funkcie'></a>Funkcie\n",
      "-----\n",
      "Z\u00e1kladom u\u017eito\u010dnosti tvorby programov je automatiz\u00e1cia rutinn\u00fdch opakuj\u00facich sa \u010dinnos\u0165\u00ed. T\u00e1to skuto\u010dnos\u0165 je vyjadren\u00e1 v jednom zo z\u00e1kladn\u00fdch pr\u00edncipov porgramovac\u00edch jazykov: \"Don't Repeat Yourself\".\n",
      "Pre splnenie tejto \u00falohy sl\u00fa\u017eia pr\u00e1ve funkcie. Funkcia definuje akciu resp. oper\u00e1ciu vyjadren\u00fa v k\u00f3de ktor\u00e1 je vykonan\u00e1 ak je funkcia zavolan\u00e1.\n",
      "\n",
      "Funkcia je vlastne k\u00f3d ktor\u00fd je pomenovan\u00fd a v pr\u00edpade ak ho chceme vyu\u017ei\u0165 nemus\u00edme ho vypisova\u0165 cel\u00fd ale sta\u010di ak pou\u017eijeme jeho ozna\u010denie resp. n\u00e1zov,meno.\n",
      "\n",
      "\n"
     ]
    },
    {
     "cell_type": "markdown",
     "metadata": {},
     "source": [
      "<h3> Vytvorenie Funkcie </h3> \n",
      "\n",
      "Funkcie sa zadefinuje cez *def*; pr\u00edklad:\n",
      "   \n",
      "    "
     ]
    },
    {
     "cell_type": "code",
     "collapsed": false,
     "input": [
      "def sayHello(): \n",
      "    print('Hello World!') # block belonging to the function\n",
      "    # End of function #\n",
      "sayHello() # call the function"
     ],
     "language": "python",
     "metadata": {},
     "outputs": [
      {
       "output_type": "stream",
       "stream": "stdout",
       "text": [
        "Hello World!\n",
        "Hello World!\n"
       ]
      }
     ],
     "prompt_number": 3
    },
    {
     "cell_type": "markdown",
     "metadata": {},
     "source": [
      "Za **def** nasleduje n\u00e1zov funkcie a z\u00e1tvorky **()**. Do z\u00e1tvoriek je mo\u017en\u00e9 vlo\u017ei\u0165 premenn\u00fa, ktor\u00fa chceme pou\u017ei\u0165 v priebehu funkcie. Za z\u00e1tvorkou nasleduje **:**.\n",
      "Ak je prv\u00fd riadok defin\u00edcie funkcie \u00fapln\u00fd potvrd\u00edme ho cez *enter*. Ak pou\u017e\u00edvame vhodn\u00e9 prostredie ktor\u00e9 pozn\u00e1 Python (ale p\u00ed\u0161eme priamo v Pythone) automaticky sa druh\u00fd riadok odsad\u00ed aby sme mohli zada\u0165 telo funkcie. Napr. v *notepade* toto odsadenie nebude vykonan\u00e9 a mus\u00edme ho urobi\u0165 manu\u00e1lne aby bol k\u00f3d zrozumite\u013en\u00fd pre Python.\n",
      "V tele funkcie zad\u00e1me oper\u00e1ciu ktor\u00fa chceme vykona\u0165. Ak sme zadali v\u0161etky oper\u00e1cie zru\u0161\u00edme odsadenie a t\u00fdm sme funkciu uzavreli. Pri odsaden\u00ed plat\u00ed z\u00e1sada, \u017ee znak na za\u010diatku riadka pre dan\u00fa urove\u0148 mus\u00ed by\u0165 rovnak\u00fd v ka\u017edom riadku danej \u00farovne (napr.: medzera, tabul\u00e1tor, 3x medzera). Ak situ\u00e1cia vy\u017eaduej je mo\u017en\u00e9 z\u00eds\u0165 aj o \u00farove\u0148 ni\u017e\u0161ie. Funkcia sa v\u0161ak uzavrie a\u017e na \u00farovni na ktorej za\u010dala.\n",
      "N\u00e1sledne, v pr\u00edpade, \u017ee funckiu chceme pou\u017ei\u0165, funckiu vol\u00e1me cez jej meno a z\u00e1tvorky ako je uveden\u00e9 v predo\u0161lom pr\u00edklade.\n",
      "\n",
      "Z\u00e1ver: Funckie s\u00favlastne kr\u00e1tke programy - funkcia iba zabal\u00ed tento program pre \u010fal\u0161ie pou\u017eitie a prirad\u00ed mu meno.\n",
      "\n",
      "Pr\u00edklad \"zabudovanej\" funkcie v Pythone:\n"
     ]
    },
    {
     "cell_type": "code",
     "collapsed": false,
     "input": [
      "a=(1,2,3,4,5,6,7,8) \n",
      "max(a)"
     ],
     "language": "python",
     "metadata": {},
     "outputs": [
      {
       "output_type": "pyout",
       "prompt_number": 12,
       "text": [
        "8"
       ]
      }
     ],
     "prompt_number": 12
    },
    {
     "cell_type": "markdown",
     "metadata": {},
     "source": [
      "Pr\u00edklad komplikovanej\u0161ej funkcie fibonacciho postupnosti:\n"
     ]
    },
    {
     "cell_type": "code",
     "collapsed": false,
     "input": [
      "def fib(koniec): #a bude udavat dlzku postupnosti\n",
      "    x,y=0,1\n",
      "    for i in range(0,koniec):\n",
      "        print(x,end=',')\n",
      "        x,y = y,x+y\n",
      "#koniec funkcie\n",
      "\n",
      "fib(10)"
     ],
     "language": "python",
     "metadata": {},
     "outputs": [
      {
       "ename": "SyntaxError",
       "evalue": "invalid syntax (<ipython-input-11-3f6adf964786>, line 4)",
       "output_type": "pyerr",
       "traceback": [
        "\u001b[0;36m  File \u001b[0;32m\"<ipython-input-11-3f6adf964786>\"\u001b[0;36m, line \u001b[0;32m4\u001b[0m\n\u001b[0;31m    print(a, end=',')\u001b[0m\n\u001b[0m                ^\u001b[0m\n\u001b[0;31mSyntaxError\u001b[0m\u001b[0;31m:\u001b[0m invalid syntax\n"
       ]
      }
     ],
     "prompt_number": 11
    },
    {
     "cell_type": "markdown",
     "metadata": {},
     "source": [
      "Vo funkcii *fib()* sme definovali *a,b* ako premenn\u00e9 vo vn\u00fatri funkcie. Tieto premenn\u00e9 vo funckii maj\u00fa platnos\u0165 iba v nej (t.j. v prostred\u00ed funkcie) ak by sme chceli pozna\u0165 aktu\u00e1lnu hodnotu *x,y* mimo funkcie nevieme ich vyvola\u0165.\n",
      "\n",
      "Sk\u00faste:"
     ]
    },
    {
     "cell_type": "code",
     "collapsed": false,
     "input": [
      "print(x,y) #chyba preto\u017ee x a y neboli nikde definovan\u00e9"
     ],
     "language": "python",
     "metadata": {},
     "outputs": []
    },
    {
     "cell_type": "markdown",
     "metadata": {},
     "source": [
      "<h3>Lok\u00e1lne a glob\u00e1lne premenn\u00e9</h3> \n",
      "Pri programovan\u00ed je niekedy vhodn\u00e9 aby zvolen\u00e9 premenn\u00e9 mali iba \"do\u010dasn\u00fa\" platnos\u0165 (\u010dasov\u00fa resp. priestorov\u00fa). V Pythone plat\u00ed z\u00e1sada, \u017ee zadefinovan\u00e1 premenn\u00e1 existuje v bloku v ktorom bola zadefinovan\u00e1 (ak nebolo explicitne ur\u010den\u00e9 inak). Prememn\u00e9, ktor\u00e9 neboli zadefinovan\u00e9 v \u017eiadnom bloku ale \"priamo na ploche\" Pythona s\u00fa glob\u00e1lne. Glob\u00e1lna premenn\u00e1 znamen\u00e1, \u017ee neexistuje v podriadenom prostred\u00ed narp. funkcie. Lok\u00e1lna premenn\u00e1 znamen\u00e1, \u017ee premenn\u00e1 je definovan\u00e1 iba v danom bloku programu. Vznikaj\u00fa tak ur\u010dit\u00e9 \u00farovne premen\u00fdch, ktor\u00e9 su navz\u00e1jom nez\u00e1visle (prevzatie glob\u00e1lnej premennej do lokalneho prostredia a naopak nie je automatick\u00e9 ale mus\u00ed by\u0165 explicitne vyjadren\u00e9).\n",
      "\n",
      "Sk\u00faste pozmeni\u0165 *fib()* funkciu nasledovne:"
     ]
    },
    {
     "cell_type": "code",
     "collapsed": false,
     "input": [
      "x,y=0,1 #x,y sme vytiahli z funkcie\n",
      "def fib(koniec): # \"koniec\" bude udavat dlzku postupnosti\n",
      "    for i in range(0,koniec):\n",
      "        print(x,end=',')\n",
      "        x,y = y,x+y\n",
      "#koniec funkcie\n",
      "\n",
      "fib(10)"
     ],
     "language": "python",
     "metadata": {},
     "outputs": []
    },
    {
     "cell_type": "markdown",
     "metadata": {},
     "source": [
      "V tomto pr\u00edpade funkcia vyhadzuje chybu. Probl\u00e9m nastal ten, \u017ee *x,y* sme nedefinovali vo funkcii ale mimo nej. *x,y* boli v tomto pr\u00edpade glob\u00e1lne premenn\u00e9 a funkcia pracuje iba s lok\u00e1lnymi premenn\u00fdmi. Prechod medzi \u00farov\u0148ami je pr\u00e1ve iba cez argument funkcie v na\u0161om pr\u00edpade to bola premenn\u00e1 *koniec*. Ak chceme *x,y* definova\u0165 glob\u00e1lne a z\u00e1rove\u0148 po\u017eadujeme aby funkcia tieto premenn\u00e9 prevzala mus\u00edme urobi\u0165 nasleduj\u00facu zmenu v *fib()* funkcii:"
     ]
    },
    {
     "cell_type": "code",
     "collapsed": false,
     "input": [
      "x,y=0,1 #x,y sme vytiahli z funkcie\n",
      "def fib(koniec,x,y): \n",
      "    for i in range(0,koniec):\n",
      "        print(x,end=',')\n",
      "        x,y = y,x+y\n",
      "#koniec funkcie\n",
      "\n",
      "fib(10,x,y)"
     ],
     "language": "python",
     "metadata": {},
     "outputs": []
    },
    {
     "cell_type": "markdown",
     "metadata": {},
     "source": [
      "Teraz funkcia *fib()* prevezme do funkcie tri argumenty pri\u010dom *x* a *y* sa stan\u00fa lok\u00e1lne. Ale pozor,ak op\u00e4\u0165 v glob\u00e1lnom prostred\u00ed d\u00e1me vyp\u00edsa\u0165 hodnotu *x* a *y* zist\u00edme, \u017ee ich hodnota je nezmenen\u00e1:"
     ]
    },
    {
     "cell_type": "code",
     "collapsed": false,
     "input": [
      "print(x,y)"
     ],
     "language": "python",
     "metadata": {},
     "outputs": []
    },
    {
     "cell_type": "markdown",
     "metadata": {},
     "source": [
      "V skuto\u010dnosti pomenovanie *x* a *y* vo funkcii a ako glob\u00e1lne premenn\u00e9 je n\u00e1hodne (a mo\u017eno zav\u00e1dzaj\u00face). Funkciu je mo\u017en\u00e9 zap\u00edsa\u0165 aj nasledovne:"
     ]
    },
    {
     "cell_type": "code",
     "collapsed": false,
     "input": [
      "x,y=0,1 #x,y sme vytiahli z funkcie\n",
      "def fib(koniec,a,b): \n",
      "    for i in range(0,koniec):\n",
      "        print(a,end=',')\n",
      "        a,b = b,a+b\n",
      "#koniec funkcie\n",
      "\n",
      "fib(10,x,y)"
     ],
     "language": "python",
     "metadata": {},
     "outputs": []
    },
    {
     "cell_type": "markdown",
     "metadata": {},
     "source": [
      "<h3>Global statement</h3>\n",
      "V pr\u00edpade ak chceme aby lok\u00e1lna premenn\u00e1 sa stala glob\u00e1lnou je potrebn\u00e9 pou\u017ei\u0165 pr\u00edkaz *global*. V\u0161imnite si zmenu vo funkcii *fib()* ak pou\u017eijeme pr\u00edkaz *global* vo vn\u00fatri funckie."
     ]
    },
    {
     "cell_type": "code",
     "collapsed": false,
     "input": [
      "def fib(koniec,a,b): \n",
      "    global a,b\n",
      "    a,b=0,1\n",
      "    for i in range(0,koniec):\n",
      "        print(a,end=',')\n",
      "        a,b = b,a+b\n",
      "#koniec funkcie\n",
      "\n",
      "fib(10)"
     ],
     "language": "python",
     "metadata": {},
     "outputs": []
    },
    {
     "cell_type": "code",
     "collapsed": false,
     "input": [
      "print(a,b)"
     ],
     "language": "python",
     "metadata": {},
     "outputs": []
    },
    {
     "cell_type": "markdown",
     "metadata": {},
     "source": [
      "<h3>Default Argument Values</h3>\n",
      "V pr\u00edpade, \u017ee chceme aby niektor\u00e9 premenn\u00e9 vstupuj\u00face do funkcie boli volite\u013en\u00e9 a v pr\u00edpade, \u017ee si ich u\u017e\u00edvate\u013e funkcie nezad\u00e1, mali svoju defaultn\u00fa hodnotu potom vo funkcii to vyrie\u0161ime nasledovne: "
     ]
    },
    {
     "cell_type": "code",
     "collapsed": false,
     "input": [
      "def fib(koniec,a=0,b=1): \n",
      "    for i in range(0,koniec):\n",
      "        print(a,end=',')\n",
      "        a,b = b,a+b\n",
      "#koniec funkcie\n",
      "\n",
      "fib(10)\n",
      "fib(10,5,12) #koniec=10, a=5, b=1 na z\u00e1klade poradia ako boli argumenty definovan\u00e9 vo funkcii"
     ],
     "language": "python",
     "metadata": {},
     "outputs": []
    },
    {
     "cell_type": "markdown",
     "metadata": {},
     "source": [
      "<h3>Keyword Arguments</h3>\n",
      "Hodnoty zad\u00e1van\u00e9 do funkcie m\u00f4\u017eeme vklada\u0165 aj s ich pomenovan\u00edm aby sme sa vyhli ur\u010dit\u00fdm nedorozumeniam. \n",
      "\n",
      "Pr\u00edklad:"
     ]
    },
    {
     "cell_type": "code",
     "collapsed": false,
     "input": [
      "fib(a=10,koniec=5,b=-9) # pri zadan\u00ed n\u00e1zvov premenn\u00fdch poriadie str\u00e1ca d\u00f4le\u017eitos\u0165"
     ],
     "language": "python",
     "metadata": {},
     "outputs": []
    },
    {
     "cell_type": "markdown",
     "metadata": {},
     "source": [
      "<h3>VarArgs parameters</h3>\n",
      "Ak m\u00e1me funkciu ktor\u00e1 m\u00f4\u017ee ma\u0165 r\u00f4zny po\u010det prememn\u00fdch pou\u017e\u00edvame pri defin\u00edcii funkcie \\* pre pr\u00edpad, \u017ee zadan\u00e9 hodnoty tvoria *tuple* a \\*\\* pre pr\u00edpad, \u017ee zadan\u00e9 hodnoty tvoria *dictionary*.\n",
      "\n",
      "Pr\u00edklad:"
     ]
    },
    {
     "cell_type": "code",
     "collapsed": false,
     "input": [
      "def najdiMax(*hodnoty): # nedokonala funkcia max ktor\u00e1 vrati 0 ak nebol zadany ziadny parameter + plat\u00ed iba pre kladne cisla\n",
      "    a=0\n",
      "    for i in hodnoty:\n",
      "        if i>a:\n",
      "            a=i\n",
      "    return a\n",
      "\n",
      "najdiMax(178,14,12,5,38,6,78)"
     ],
     "language": "python",
     "metadata": {},
     "outputs": []
    },
    {
     "cell_type": "markdown",
     "metadata": {},
     "source": [
      "<h3>The return Statement</h3>\n",
      "*return* je pou\u017e\u00edvan\u00fd na z\u00edskanie hodnoty z funkcie t.j. ak zavol\u00e1me funkciu objekt priraden\u00fd cez *return* je hodnota funkcie po jej vykonan\u00ed. \n",
      "Oproti *print* je v\u00fdhodou jednoduch\u00e1 pr\u00e1ca s touto hodnotou \u010falej...\n",
      "\n",
      "Pr\u00edklad:"
     ]
    },
    {
     "cell_type": "code",
     "collapsed": false,
     "input": [
      "najdenaMaxHodnota=najdiMax(178,14,12,5,38,6,78)\n",
      "\n",
      "print(najdenaMaxHodnota-100)"
     ],
     "language": "python",
     "metadata": {},
     "outputs": []
    },
    {
     "cell_type": "markdown",
     "metadata": {},
     "source": [
      "<h3>DocStrings</h3>\n",
      "V pr\u00edpade, \u017ee chceme u\u017e\u00edvate\u013eovi funkcie poskytn\u00fa\u0165 kr\u00e1tku dokument\u00e1ciu k funkcii m\u00f4\u017eeme tak vykona\u0165 priamo vo funkcii pou\u017eit\u00edm ''' na ozna\u010denie textu, ktor\u00fd chceme u\u017e\u00edvate\u013eovi zobrazi\u0165.\n",
      "\n",
      "Pr\u00edklad:"
     ]
    },
    {
     "cell_type": "code",
     "collapsed": false,
     "input": [
      "def najdiMax(*hodnoty):\n",
      "    '''T\u00e1to funkcia ma v\u00e1\u017ene obmedzenia:\n",
      "    - plat\u00ed iba pre kladn\u00e9 hodnoty\n",
      "    - ak nebol zadan\u00fd \u017eiadny parameter vr\u00e1ti 0'''\n",
      "    a=0\n",
      "    for i in hodnoty:\n",
      "        if i>a:\n",
      "            a=i\n",
      "    return a\n",
      "\n",
      "#dokument\u00e1ciu k funkcii z\u00edskame cez:\n",
      "print(najdiMax.__doc__)"
     ],
     "language": "python",
     "metadata": {},
     "outputs": [
      {
       "output_type": "stream",
       "stream": "stdout",
       "text": [
        "T\u00e1to funkcia ma v\u00e1\u017ene obmedzenia:\n",
        "    - plat\u00ed iba pre kladn\u00e9 hodnoty\n",
        "    - ak nebol zadan\u00fd \u017eiadny parameter vr\u00e1ti 0\n"
       ]
      }
     ],
     "prompt_number": 2
    },
    {
     "cell_type": "markdown",
     "metadata": {},
     "source": [
      "[top](#Kapitola_3)\n",
      "<hr/>"
     ]
    }
   ],
   "metadata": {}
  }
 ]
}