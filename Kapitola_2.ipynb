{
 "metadata": {
  "name": "Kapitola_2"
 },
 "nbformat": 3,
 "nbformat_minor": 0,
 "worksheets": [
  {
   "cells": [
    {
     "cell_type": "markdown",
     "metadata": {},
     "source": "<a name='Kapitola_2'></a> Kapitola 2: \n=====\nVariables, Strings, Numbers, Comments, and Operators\n=====\nIn this section, you will learn to store information in variables. You will learn about two types of data: strings, which are sets of characters, and numerical data types.\n"
    },
    {
     "cell_type": "markdown",
     "metadata": {},
     "source": "Obsah\n---\n- [Variables](#variables)\n- [Strings](#strings)\n- [Numbers](#numbers)\n- [Comments](#comments)\n- [Operators](#operators)\n  "
    },
    {
     "cell_type": "markdown",
     "metadata": {},
     "source": "<a name='variables'></a>Variables / Premenn\u00e9\n===\nA variable holds a value / Premenn\u00e9 obsahuj\u00fa hodnoty."
    },
    {
     "cell_type": "markdown",
     "metadata": {},
     "source": "Pr\u00edklad\n---"
    },
    {
     "cell_type": "code",
     "collapsed": false,
     "input": "message = \"Hello Python world!\"\nprint(message)",
     "language": "python",
     "metadata": {},
     "outputs": [],
     "prompt_number": "*"
    },
    {
     "cell_type": "markdown",
     "metadata": {},
     "source": "*message* - je v tomto pr\u00edpade variable/premenn\u00e1 a text *\"Hello Python world!\"* je hodnota ktor\u00fa sme tejto premennej priradili. \nPri z\u00e1pise plat\u00ed, \u017ee \u013eav\u00e1 strana je premenn\u00e1 a na pravej strane je hodnota ktor\u00fa chceme priradi\u0165.\n\nPozn.: niektor\u00e9 progr. jazyky vyu\u017e\u00edvaj\u00fa okrem oper\u00e1tora *=* taktie\u017e *->* resp. *<-* to umo\u017e\u0148uje vymieni\u0165 strany priradenia navz\u00e1jom - python to neumo\u017e\u0148uje"
    },
    {
     "cell_type": "code",
     "collapsed": false,
     "input": "message = \"Hello Python world!\"\nprint(message)\n# nov\u00e1 hodnota\nmessage = \"Python is my favorite language!\"\nprint(message)\n# vr\u00e1tenie p\u00f4vodnej hodnoty\nmessage = \"Hello Python world!\"\nprint(message)\n",
     "language": "python",
     "metadata": {},
     "outputs": [
      {
       "output_type": "stream",
       "stream": "stdout",
       "text": "Hello Python world!\nPython is my favorite language!\nHello Python world!\n"
      }
     ],
     "prompt_number": "*"
    },
    {
     "cell_type": "markdown",
     "metadata": {},
     "source": "Premenn\u00e9 je mo\u017en\u00e9 prep\u00edsa\u0165 priraden\u00edm novej hodnoty. Vr\u00e1ti\u0165 p\u00f4vodn\u00fa prep\u00edsan\u00fa hodnotu je mo\u017en\u00e9 iba op\u00e4tovn\u00fdm priraden\u00edm p\u00f4vodnej hodnoty."
    },
    {
     "cell_type": "markdown",
     "metadata": {},
     "source": "Naming rules\n---\nOzna\u010denie premenn\u00fdch m\u00e1 svoje z\u00e1sady resp. obmedzenia:\n\n- Variables can only contain letters, numbers, and underscores. Variable names can start with a letter or an underscore, but can not start with a number.\n(povolen\u00e9 s\u00fa p\u00edsmena (A,C,v,b,x,r,q),\u010d\u00edsla(1,2,3,6,100),a pod\u010diarkovn\u00edk(_), premen\u00e9 nem\u00f4\u017eu za\u010d\u00edna\u0165 \u010d\u00edslom)\n- rozli\u0161uj\u00fa sa mal\u00e9 a ve\u013ek\u00e9 p\u00edsmena t.j. *X* a *x* ozna\u010duje dve r\u00f4zne premenn\u00e9\n- Spaces are not allowed in variable names, so we use underscores instead of spaces. For example, use student_name instead of \"student name\".\n- You cannot use [Python keywords](http://docs.python.org/3/reference/lexical_analysis.html#keywords) as variable names.\n(nem\u00f4\u017eeme pou\u017e\u00edva\u0165 Python keywords - vyhraden\u00e9 v\u00fdrazy vlastn\u00e9 programovaciemu jazyku (napr.: if, else, True,))\n- Variable names should be descriptive, without being too long. For example mc_wheels is better than just \"wheels\", and number_of_wheels_on_a_motorycle.\n- Be careful about using the lowercase letter l and the uppercase letter O in places where they could be confused with the numbers 1 and 0."
    },
    {
     "cell_type": "markdown",
     "metadata": {},
     "source": "### Pr\u00edklady nevhodne zvolen\u00fdch ozna\u010den\u00ed premenn\u00fdch"
    },
    {
     "cell_type": "code",
     "collapsed": false,
     "input": "# pr\u00edklad 1\npremenn\u00e1 = 10 #korektne je: premenna = 10",
     "language": "python",
     "metadata": {},
     "outputs": [
      {
       "ename": "SyntaxError",
       "evalue": "invalid syntax (<ipython-input-46-2db469cf3edc>, line 2)",
       "output_type": "pyerr",
       "traceback": [
        "\u001b[1;36m  File \u001b[1;32m\"<ipython-input-46-2db469cf3edc>\"\u001b[1;36m, line \u001b[1;32m2\u001b[0m\n\u001b[1;33m    premenn\u00e1 = 10 #korektne je: premenna = 10\u001b[0m\n\u001b[1;37m           ^\u001b[0m\n\u001b[1;31mSyntaxError\u001b[0m\u001b[1;31m:\u001b[0m invalid syntax\n"
       ]
      }
     ],
     "prompt_number": "*"
    },
    {
     "cell_type": "code",
     "collapsed": false,
     "input": "premenna 1= 10 #korektne je: premenna_1 = 10",
     "language": "python",
     "metadata": {},
     "outputs": [],
     "prompt_number": "*"
    },
    {
     "cell_type": "code",
     "collapsed": false,
     "input": "if=10 #korektne je napr.: IF = 10\n",
     "language": "python",
     "metadata": {},
     "outputs": [],
     "prompt_number": "*"
    },
    {
     "cell_type": "markdown",
     "metadata": {},
     "source": "NameError \n---\n**Pozor na preklepy!!!**\n\nThere is one common error when using variables, that you will almost certainly encounter at some point. Take a look at this code, and see if you can figure out why it causes an error."
    },
    {
     "cell_type": "code",
     "collapsed": false,
     "input": "message = \"Thank you for sharing Python with the world, Guido!\"\nprint(mesage)",
     "language": "python",
     "metadata": {},
     "outputs": [],
     "prompt_number": "*"
    },
    {
     "cell_type": "markdown",
     "metadata": {},
     "source": "<h4> Uk\u00e1\u017eka chybovej spr\u00e1vy"
    },
    {
     "cell_type": "markdown",
     "metadata": {},
     "source": "Let's look through this error message. First, we see it is a NameError. Then we see the file that caused the error, and a green arrow shows us what line in that file caused the error. Then we get some more specific feedback, that \"name 'mesage' is not defined\".\n\nYou may have already spotted the source of the error. We spelled message two different ways. Python does not care whether we use the variable name \"message\" or \"mesage\". Python only cares that the spellings of our variable names match every time we use them.\n\nThis is pretty important, because it allows us to have a variable \"name\" with a single name in it, and then another variable \"names\" with a bunch of names in it.\n\nWe can fix NameErrors by making sure all of our variable names are spelled consistently."
    },
    {
     "cell_type": "code",
     "collapsed": false,
     "input": "###highlight=[3]\nmessage = \"Thank you for sharing Python with the world, Guido!\"\nprint(message)",
     "language": "python",
     "metadata": {},
     "outputs": [],
     "prompt_number": "*"
    },
    {
     "cell_type": "markdown",
     "metadata": {},
     "source": "In case you didn't know [Guido](http://en.wikipedia.org/wiki/Guido_van_Rossum) [van Rossum](http://www.python.org/~guido/) created the Python language over 20 years ago, and he is considered Python's [Benevolent Dictator for Life](http://en.wikipedia.org/wiki/Benevolent_Dictator_for_Life). Guido still signs off on all major changes to the core Python language."
    },
    {
     "cell_type": "markdown",
     "metadata": {},
     "source": "[top](#Kapitola_2)"
    },
    {
     "cell_type": "markdown",
     "metadata": {},
     "source": "<a name='strings'></a>Strings / Re\u0165azce\n===\nStrings are sets of characters. "
    },
    {
     "cell_type": "code",
     "collapsed": false,
     "input": "toto_je_string=\"M\u00f4ooj prvy string ktor\u00fd obsahuje aj \u010disla 1254 a ine znaky #%&$'[\u00e4!'@*//>\"\nprint(toto_je_string)",
     "language": "python",
     "metadata": {},
     "outputs": [],
     "prompt_number": "*"
    },
    {
     "cell_type": "markdown",
     "metadata": {},
     "source": "Single and double quotes\n---\nStrings are contained by either single or double quotes.\nZ\u00e1kladom je pou\u017ei\u0165 rovnak\u00fd typ na za\u010diatku a na konci.\nV pr\u00edpade potreby vlo\u017eenia \u00favodzoviek do re\u0165azca sa pou\u017eije druh\u00fd typ oproti za\u010diatku a koncu."
    },
    {
     "cell_type": "code",
     "collapsed": true,
     "input": "my_string = \"This is a double-quoted string.\"\nprint(my_string)\nmy_string = 'This is a single-quoted string.'\nprint(my_string)\n# sk\u00faste zmeni\u0165 posledn\u00fa ' na \"\n#napr.: my_string = 'This is a single-quoted string.\"",
     "language": "python",
     "metadata": {},
     "outputs": [],
     "prompt_number": "*"
    },
    {
     "cell_type": "markdown",
     "metadata": {},
     "source": "This lets us make strings that contain quotations."
    },
    {
     "cell_type": "code",
     "collapsed": true,
     "input": "quote = \"Linus Torvalds once said, 'Any program is only as good as it is useful.'\"\nprint(quote)",
     "language": "python",
     "metadata": {},
     "outputs": [],
     "prompt_number": "*"
    },
    {
     "cell_type": "markdown",
     "metadata": {},
     "source": "Podobn\u00fd v\u00fdsledok s vymenen\u00fdmi \u00favodzovkami:"
    },
    {
     "cell_type": "code",
     "collapsed": false,
     "input": "quote = 'Linus Torvalds once said, \"Any program is only as good as it is useful.\"'\nprint(quote)",
     "language": "python",
     "metadata": {},
     "outputs": [],
     "prompt_number": "*"
    },
    {
     "cell_type": "markdown",
     "metadata": {},
     "source": "Uk\u00e1\u017eka pr\u00e1ce so stringom: Changing case\n---\nYou can easily change the case of a string, to present it the way you want it to look.\n\nV tejto \u010dasti je uk\u00e1\u017eka pr\u00e1ce so stringom"
    },
    {
     "cell_type": "code",
     "collapsed": false,
     "input": "first_name = 'eric'\n\nprint(first_name)\nprint(first_name.title())",
     "language": "python",
     "metadata": {},
     "outputs": [],
     "prompt_number": "*"
    },
    {
     "cell_type": "markdown",
     "metadata": {},
     "source": "V uk\u00e1\u017eke sme mali meno uveden\u00e9 ako *'eric'*. It is often good to store data in lower case, and then change the case as you want to for presentation. This catches some TYpos. It also makes sure that 'eric', 'Eric', and 'ERIC' are not considered three different people. Some of the most common cases are lower, title, and upper.\n\n"
    },
    {
     "cell_type": "code",
     "collapsed": false,
     "input": "###highlight=[6,8,9]\nfirst_name = 'eric'\n\nprint(first_name)\nprint(first_name.title())\nprint(first_name.upper())\n\nfirst_name = 'Eric'\nprint(first_name.lower())\nprint(first_name)",
     "language": "python",
     "metadata": {},
     "outputs": [],
     "prompt_number": "*"
    },
    {
     "cell_type": "markdown",
     "metadata": {},
     "source": "You will see this syntax quite often, where a variable name is followed by a dot and then the name of an action, followed by a set of parentheses. The parentheses may be empty, or they may contain some values.\n\nV\u0161imnite si ako .title zmenilo p\u00f4vodn\u00fd re\u0165azec 'eric' na 'Eric'. .title funguje ako met\u00f3da resp. funkcia na objekte *'first_name'*, ktor\u00fd sme zadefinovali . Met\u00f3da je definovan\u00e1 u\u017e v Pythone alebo u\u017e\u00edvate\u013eom a pracuje s objektom ktor\u00fdm je \u010d\u00edslo, premenn\u00e1, alebo in\u00fd zadefinovan\u00fd objekt. Met\u00f3dy su \"zviazan\u00e9\" s objektom. Viacej o met\u00f3dach bude spomenut\u00e9 v \u010dasti venovanej \"objektom\" v Pythone.\n\nvariable_name.action()\n\nIn this example, the word \"action\" is the name of a method. A method is something that can be done to a variable. The methods 'lower', 'title', and 'upper' are all functions that have been written into the Python language, which do something to strings. Later on, you will learn to write your own methods."
    },
    {
     "cell_type": "markdown",
     "metadata": {},
     "source": "Combining strings (concatenation)\n---\nIt is often very useful to be able to combine strings into a message or page element that we want to display. Again, this is easier to understand through an example."
    },
    {
     "cell_type": "code",
     "collapsed": false,
     "input": "first_name = 'ada'\nlast_name = 'lovelace'\n\nfull_name = first_name + ' ' + last_name\n\nprint(full_name.title())",
     "language": "python",
     "metadata": {},
     "outputs": [],
     "prompt_number": "*"
    },
    {
     "cell_type": "markdown",
     "metadata": {},
     "source": "The plus sign combines two strings into one, which is called \"concatenation\". You can use as many plus signs as you want in composing messages. In fact, many web pages are written as giant strings which are put together through a long series of string concatenations."
    },
    {
     "cell_type": "code",
     "collapsed": false,
     "input": "###highlight=[6,7,8]\nfirst_name = 'ada'\nlast_name = 'lovelace'\nfull_name = first_name + ' ' + last_name\n\nmessage = full_name.title() + ' ' + \"was considered the world's first computer programmer.\"\n\nprint(message)",
     "language": "python",
     "metadata": {},
     "outputs": [],
     "prompt_number": "*"
    },
    {
     "cell_type": "markdown",
     "metadata": {},
     "source": "If you don't know who Ada Lovelace is, you might want to go read what [Wikipedia](http://en.wikipedia.org/wiki/Ada_Lovelace) or the [Computer History Museum](http://www.computerhistory.org/babbage/adalovelace/) have to say about her. Her life and her work are also the inspiration for the [Ada Initiative](http://adainitiative.org/faq/about-ada-lovelace/), which supports women who are involved in technical fields."
    },
    {
     "cell_type": "markdown",
     "metadata": {},
     "source": "Whitespace\n---\nThe term \"whitespace\" refers to characters that the computer is aware of, but are invisible to readers. The most common whitespace characters are spaces, tabs, and newlines.\n\nSpaces are easy to create, because you have been using them as long as you have been using computers. Tabs and newlines are represented by special character combinations.\n\nThe two-character combination \"\\t\" makes a tab appear in a string. Tabs can be used anywhere you like in a string."
    },
    {
     "cell_type": "code",
     "collapsed": false,
     "input": "print(\"Hello everyone!\")",
     "language": "python",
     "metadata": {},
     "outputs": [],
     "prompt_number": "*"
    },
    {
     "cell_type": "code",
     "collapsed": false,
     "input": "print(\"\\tHello everyone!\")",
     "language": "python",
     "metadata": {},
     "outputs": [],
     "prompt_number": "*"
    },
    {
     "cell_type": "code",
     "collapsed": false,
     "input": "print(\"Hello \\teveryone!\")",
     "language": "python",
     "metadata": {},
     "outputs": [],
     "prompt_number": "*"
    },
    {
     "cell_type": "markdown",
     "metadata": {},
     "source": "The combination \"\\n\" makes a newline appear in a string. You can use newlines anywhere you like in a string."
    },
    {
     "cell_type": "code",
     "collapsed": false,
     "input": "print(\"Hello everyone!\")",
     "language": "python",
     "metadata": {},
     "outputs": [],
     "prompt_number": "*"
    },
    {
     "cell_type": "code",
     "collapsed": false,
     "input": "print(\"\\nHello everyone!\")",
     "language": "python",
     "metadata": {},
     "outputs": [],
     "prompt_number": "*"
    },
    {
     "cell_type": "code",
     "collapsed": false,
     "input": "print(\"Hello \\neveryone!\")",
     "language": "python",
     "metadata": {},
     "outputs": [],
     "prompt_number": "*"
    },
    {
     "cell_type": "code",
     "collapsed": false,
     "input": "print(\"\\n\\n\\nHello everyone!\")",
     "language": "python",
     "metadata": {},
     "outputs": [],
     "prompt_number": "*"
    },
    {
     "cell_type": "markdown",
     "metadata": {},
     "source": "###Stripping whitespace\n\nMany times you will allow users to enter text into a box, and then you will read that text and use it. It is really easy for people to include extra whitespace at the beginning or end of their text. Whitespace includes spaces, tabs, and newlines.\n\nIt is often a good idea to strip this whitespace from strings before you start working with them. For example, you might want to let people log in, and you probably want to treat 'eric ' as 'eric' when you are trying to see if I exist on your system.\n\nYou can strip whitespace from the left side, the right side, or both sides of a string."
    },
    {
     "cell_type": "code",
     "collapsed": false,
     "input": "name = ' eric '\n\nprint(name.lstrip())\nprint(name.rstrip())\nprint(name.strip())",
     "language": "python",
     "metadata": {},
     "outputs": [],
     "prompt_number": "*"
    },
    {
     "cell_type": "markdown",
     "metadata": {},
     "source": "[top](#Kapitola_2)"
    },
    {
     "cell_type": "markdown",
     "metadata": {},
     "source": "<a name='numbers'></a>Numbers\n===\nDealing with simple numerical data is fairly straightforward in Python, but there are a few things you should know about."
    },
    {
     "cell_type": "markdown",
     "metadata": {},
     "source": "Integers (Cel\u00e9 \u010d\u00edsla, Z)\n---\nYou can do all of the basic operations with integers, and everything should behave as you expect. Addition and subtraction use the standard plus and minus symbols. Multiplication uses the asterisk, and division uses a forward slash. Exponents use two asterisks."
    },
    {
     "cell_type": "code",
     "collapsed": false,
     "input": "3+2",
     "language": "python",
     "metadata": {},
     "outputs": [],
     "prompt_number": "*"
    },
    {
     "cell_type": "code",
     "collapsed": false,
     "input": "3-2",
     "language": "python",
     "metadata": {},
     "outputs": [],
     "prompt_number": "*"
    },
    {
     "cell_type": "code",
     "collapsed": false,
     "input": "print(3*2)",
     "language": "python",
     "metadata": {},
     "outputs": [],
     "prompt_number": "*"
    },
    {
     "cell_type": "code",
     "collapsed": false,
     "input": "print(3/2)",
     "language": "python",
     "metadata": {},
     "outputs": [],
     "prompt_number": "*"
    },
    {
     "cell_type": "code",
     "collapsed": false,
     "input": "print(3**2)",
     "language": "python",
     "metadata": {},
     "outputs": [],
     "prompt_number": "*"
    },
    {
     "cell_type": "markdown",
     "metadata": {},
     "source": "You can use parenthesis to modify the standard order of operations."
    },
    {
     "cell_type": "code",
     "collapsed": false,
     "input": "standard_order = 2+3*4\nprint(standard_order)",
     "language": "python",
     "metadata": {},
     "outputs": [],
     "prompt_number": "*"
    },
    {
     "cell_type": "code",
     "collapsed": false,
     "input": "my_order = (2+3)*4\nprint(my_order)",
     "language": "python",
     "metadata": {},
     "outputs": [],
     "prompt_number": "*"
    },
    {
     "cell_type": "markdown",
     "metadata": {},
     "source": "Floating-Point numbers\n---\nFloating-point numbers refer to any number with a decimal point. Most of the time, you can think of floating point numbers as decimals, and they will behave as you expect them to."
    },
    {
     "cell_type": "code",
     "collapsed": false,
     "input": "0.1+0.1",
     "language": "python",
     "metadata": {},
     "outputs": [],
     "prompt_number": "*"
    },
    {
     "cell_type": "markdown",
     "metadata": {},
     "source": "However, sometimes you will get an answer with an unexpectly long decimal part:"
    },
    {
     "cell_type": "code",
     "collapsed": false,
     "input": "0.1+0.2",
     "language": "python",
     "metadata": {},
     "outputs": [],
     "prompt_number": "*"
    },
    {
     "cell_type": "markdown",
     "metadata": {},
     "source": "This happens because of the way computers represent numbers internally; this has nothing to do with Python itself. Basically, we are used to working in powers of ten, where one tenth plus two tenths is just three tenths. But computers work in powers of two. So your computer has to represent 0.1 in a power of two, and then 0.2 as a power of two, and express their sum as a power of two. There is no exact representation for 0.3 in powers of two, and we see that in the answer to 0.1+0.2.\n\nPython tries to hide this kind of stuff when possible. Don't worry about it much for now; just don't be surprised by it, and know that we will learn to clean up our results a little later on.\n\nYou can also get the same kind of result with other operations."
    },
    {
     "cell_type": "code",
     "collapsed": false,
     "input": "3*0.1",
     "language": "python",
     "metadata": {},
     "outputs": [],
     "prompt_number": "*"
    },
    {
     "cell_type": "markdown",
     "metadata": {},
     "source": "Pozor na *Integers* !!!\nPr\u00edklad:"
    },
    {
     "cell_type": "code",
     "collapsed": false,
     "input": "# Tento v\u00fdsledok je asi pravdepodobne ne\u017eiad\u00faci ",
     "language": "python",
     "metadata": {},
     "outputs": [],
     "prompt_number": "*"
    },
    {
     "cell_type": "markdown",
     "metadata": {},
     "source": "Python ak pracuje s *integers* tak vr\u00e1ti v\u00fdsledok tie\u017e ako *integer*"
    },
    {
     "cell_type": "code",
     "collapsed": false,
     "input": "# Oprava na float numbers\n3./2.",
     "language": "python",
     "metadata": {},
     "outputs": [
      {
       "metadata": {},
       "output_type": "pyout",
       "prompt_number": 48,
       "text": "1.5"
      }
     ],
     "prompt_number": "*"
    },
    {
     "cell_type": "markdown",
     "metadata": {},
     "source": "If you are getting numerical results that you don't expect, or that don't make sense, check if the version of Python you are using is treating integers differently than you expect."
    },
    {
     "cell_type": "markdown",
     "metadata": {},
     "source": "[top](#Kapitola_2)"
    },
    {
     "cell_type": "markdown",
     "metadata": {},
     "source": "<a name='comments'></a>Comments\n===\nAs you begin to write more complicated code, you will have to spend more time thinking about how to code solutions to the problems you want to solve. Once you come up with an idea, you will spend a fair amount of time troubleshooting your code, and revising your overall approach.\n\nComments allow you to write in English, within your program. In Python, any line that starts with a pound (#) symbol is ignored by the Python interpreter."
    },
    {
     "cell_type": "code",
     "collapsed": false,
     "input": "# This line is a comment.\nprint(\"This line is not a comment, it is code.\")",
     "language": "python",
     "metadata": {},
     "outputs": [
      {
       "output_type": "stream",
       "stream": "stdout",
       "text": "This line is not a comment, it is code.\n"
      }
     ],
     "prompt_number": 49
    },
    {
     "cell_type": "markdown",
     "metadata": {},
     "source": "What makes a good comment?\n---\n- It is short and to the point, but a complete thought. Most comments should be written in complete sentences.\n- It explains your thinking, so that when you return to the code later you will understand how you were approaching the problem.\n- It explains your thinking, so that others who work with your code will understand your overall approach to a problem.\n- It explains particularly difficult sections of code in detail.\n\nWhen should you write a comment?\n---\n- When you have to think about code before writing it.\n- When you are likely to forget later exactly how you were approaching a problem.\n- When there is more than one way to solve a problem.\n- When others are unlikely to anticipate your way of thinking about a problem.\n\nWriting good comments is one of the clear signs of a good programmer. If you have any real interest in taking programming seriously, start using comments now. You will see them throughout the examples in these notebooks."
    },
    {
     "cell_type": "markdown",
     "metadata": {},
     "source": "[top](#Kapitola_2)"
    },
    {
     "cell_type": "markdown",
     "metadata": {},
     "source": "<a name='operators'></a>Operators\n===\nMost statements (logical lines) that you write will contain *expressions*. A simple\nexample of an expression is **2 + 3**. An expression can be broken down into\n*operators* and *operands*.\n*Operators* are functionality that do something and can be represented by symbols\nsuch as + or by special keywords. Operators require some data to operate on\nand such data is called *operands*. In this case, 2 and 3 are the operands."
    },
    {
     "cell_type": "markdown",
     "metadata": {},
     "source": "Zoznam oper\u00e1torov:\n------\n\n- \\+ (plus)\n- \\- (minus)\n- \\* (multiply) \n- ** (power)\n- / (divide)\n- // (floor division), vr\u00e1ti z\u00e1klad pri delen\u00ed (zvy\u0161ok ignoruje)\n- % (modulo), vr\u00e1ti zvy\u0161ok z delenia\n- & (bit-wise AND); porovn\u00e1va hodnoty po bitoch a aplikuje and - logick\u00fa konjunkciu\n- | (bit-wise OR); porovn\u00e1va hodnoty po bitoch a aplikuje or - logick\u00fa disjunkciu\n- \u02c6 (bit-wise XOR); porovn\u00e1va hodnoty po bitoch a aplikuje xor - logick\u00fa exkluz\u00edvnu disjunkciu resp. alternat\u00edvu\n- ~ (bit-wise invert)\n- < (less than)\n- \\> (greater than)\n- <= (less than or equal to)\n- \\>= (greater than or equal to)\n- == (equal to)   \n- != (not equal to)\n- not (boolean NOT)\n- and (boolean AND)\n- or (boolean OR)"
    },
    {
     "cell_type": "markdown",
     "metadata": {},
     "source": "Uk\u00e1\u017eky:  //; %\n"
    },
    {
     "cell_type": "code",
     "collapsed": false,
     "input": "10//3 ",
     "language": "python",
     "metadata": {},
     "outputs": [
      {
       "metadata": {},
       "output_type": "pyout",
       "prompt_number": 50,
       "text": "3"
      }
     ],
     "prompt_number": 50
    },
    {
     "cell_type": "code",
     "collapsed": false,
     "input": "10 % 3",
     "language": "python",
     "metadata": {},
     "outputs": [
      {
       "metadata": {},
       "output_type": "pyout",
       "prompt_number": 51,
       "text": "1"
      }
     ],
     "prompt_number": 51
    },
    {
     "cell_type": "markdown",
     "metadata": {},
     "source": "Uk\u00e1\u017eky:  logick\u00fdch oper\u00e1cii, tabul\u013eka pravdivostn\u00fdch hodn\u00f4t"
    },
    {
     "cell_type": "code",
     "collapsed": false,
     "input": "1 # predstavuje hodnotu True, 1 je tu zap\u00edsan\u00e1 v dekadickej s\u00fastave ale z\u00e1rove\u0148 v bin\u00e1rnej s\u00fastave je z\u00e1pis 1.\n0 # predstavuje hodnotu False, 0 je tu zap\u00edsan\u00e1 v dekadickej s\u00fastave ale z\u00e1rove\u0148 v bin\u00e1rnej s\u00fastave je z\u00e1pis 0.\nprint(1 and 0)\nprint(0 and 0)\nprint(1 and 1)\n",
     "language": "python",
     "metadata": {},
     "outputs": [
      {
       "output_type": "stream",
       "stream": "stdout",
       "text": "0\n0\n1\n"
      }
     ],
     "prompt_number": 52
    },
    {
     "cell_type": "markdown",
     "metadata": {},
     "source": "Porovnanie s *and* a *&*"
    },
    {
     "cell_type": "code",
     "collapsed": false,
     "input": "print(5 and 6)\nprint(5 & 6) ",
     "language": "python",
     "metadata": {},
     "outputs": [
      {
       "output_type": "stream",
       "stream": "stdout",
       "text": "6\n4\n"
      }
     ],
     "prompt_number": 53
    },
    {
     "cell_type": "code",
     "collapsed": false,
     "input": "# rozdiel je sp\u00f4soben\u00fd nasledevne\n# 5 aj 6 prezentuje False\n# staci overit\n5 == False\n6 == False\n# and dvoch False je False a Python vr\u00e1ti 6 co je vlastne False\n# V druhom pr\u00edpade porovn\u00e1va hodnoty v binarnom zapise postupne po bitoch\n# 5 je prezentovan\u00e1 ako 101\n# 6 je prezentovan\u00e1 ako 110\n# konjunkcia po bitoch: 100 \u010do je 4 v dekadickom z\u00e1pise preto v\u00fdsledok 4 ",
     "language": "python",
     "metadata": {},
     "outputs": [
      {
       "metadata": {},
       "output_type": "pyout",
       "prompt_number": 54,
       "text": "False"
      }
     ],
     "prompt_number": 54
    },
    {
     "cell_type": "code",
     "collapsed": false,
     "input": "print(1 or 0)\nprint(0 or 0)\nprint(1 or 1)",
     "language": "python",
     "metadata": {},
     "outputs": [
      {
       "output_type": "stream",
       "stream": "stdout",
       "text": "1\n0\n1\n"
      }
     ],
     "prompt_number": 55
    },
    {
     "cell_type": "code",
     "collapsed": false,
     "input": "# xor nie implementovan\u00e9 podobne ako 'and' a \"or' ale je mo\u017en\u00e9 nahradi\u0165 ho cez !=\nprint(1 != 0)\nprint(0 != 0)\nprint(1 != 1)",
     "language": "python",
     "metadata": {},
     "outputs": [
      {
       "output_type": "stream",
       "stream": "stdout",
       "text": "True\nFalse\nFalse\n"
      }
     ],
     "prompt_number": 56
    },
    {
     "cell_type": "markdown",
     "metadata": {},
     "source": "Skratky v z\u00e1pise:"
    },
    {
     "cell_type": "code",
     "collapsed": false,
     "input": "a = 2\na = a *3\nprint (a)\n# je to ist\u00e9 ako\na = 2\na *= 3\nprint (a)\n",
     "language": "python",
     "metadata": {},
     "outputs": [
      {
       "output_type": "stream",
       "stream": "stdout",
       "text": "6\n6\n"
      }
     ],
     "prompt_number": 57
    },
    {
     "cell_type": "code",
     "collapsed": false,
     "input": "# ak chceme ma\u0165 po\u010d\u00edtadlo napr. v loope posta\u010duje:\na=0\nwhile a<5:\n    a+=1\n    print(a)",
     "language": "python",
     "metadata": {},
     "outputs": [
      {
       "output_type": "stream",
       "stream": "stdout",
       "text": "1\n2\n3\n4\n5\n"
      }
     ],
     "prompt_number": 58
    },
    {
     "cell_type": "markdown",
     "metadata": {},
     "source": "[top](#Kapitola_2)"
    }
   ],
   "metadata": {}
  }
 ]
}