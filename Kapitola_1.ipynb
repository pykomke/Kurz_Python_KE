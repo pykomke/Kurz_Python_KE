{
 "metadata": {
  "name": "Kapitola_1"
 },
 "nbformat": 3,
 "nbformat_minor": 0,
 "worksheets": [
  {
   "cells": [
    {
     "cell_type": "markdown",
     "metadata": {},
     "source": "<a name='top'></a> Kapitola 1:\n====\n\u00davod do Pythonu a IPython notebooku\n====\n\u00davodn\u00e1 kapitola s vysvetlen\u00edm \u010do Python je a prezent\u00e1cia pracovn\u00e9ho prostredia IPython notebook."
    },
    {
     "cell_type": "markdown",
     "metadata": {},
     "source": "Obsah\n---\n\n- [O pythone](#o_pythone)\n- [IPython notebook](#IPython_notebook)"
    },
    {
     "cell_type": "markdown",
     "metadata": {},
     "source": "<a name='o_pythone'></a>O Pythone\n------\n\nPython je modern\u00fd programovac\u00ed jazyk s rast\u00facim mno\u017estvom pou\u017e\u00edvate\u013eov a aplik\u00e1cii v r\u00f4znych oblastiach od priemyslu cez vedu a\u017e po aplik\u00e1cie na osobn\u00fdch po\u010d\u00edta\u010doch.\n\nOfici\u00e1lny \u00favod pre Python:\n<p style='text-align: justify; width: 500px;'>\n\"Python is an easy to learn, powerful programming language.\nIt has efficient high-level data structures and a simple but\neffective approach to object-oriented programming. \nPython\u2019s elegant syntax and dynamic typing, together with its interpreted nature, make it an ideal language for scripting and rapid application development in many areas on most platforms.\"</p>\n\nOfici\u00e1lna str\u00e1nka pre Python je http://www.python.org\n\nZ\u00e1kladn\u00e9 charakteristiky Pythonu s\u00fa:\n\n- jednoduchos\u0165\n- \u013eahk\u00fd pre u\u010denie\n- vo\u013en\u00fd (t.j. bez poplatkov a obmedzen\u00ed), Open Source (vid\u00edte zdrojov\u00fd k\u00f3d)\n- vysoko-\u00farov\u0148ov\u00fd jazyk (high-level language)\n- prenosite\u013en\u00fd medzi platformami (Linux, Windows, Macinthosh, Solaris ...)\n- Interpretovan\u00fd (vysvetlenie nesk\u00f4r)\n- objektovo orientovan\u00fd\n- roz\u0161\u00edrite\u013en\u00fd (k\u00f3d je mo\u017en\u00e9 nap\u00edsa\u0165 v C/C++ a n\u00e1sledne pou\u017ei\u0165 v Pythone)\n- vkladate\u013en\u00fd - embeddable (vysvetlenie: http://docs.python.org/3.3/extending/embedding.html)\n- obrovsk\u00e9 mno\u017estvo kni\u017en\u00edc (zni\u017euj\u00fa potrebu k\u00f3dovania odznova)\n\nPython sa postupne vyv\u00edja a historicky pre\u0161iel nieko\u013ek\u00fdmi etapami. V\u00fdraznej\u0161ie zmeny v jazyku s\u00fa ozna\u010den\u00e9 ako verzie. Moment\u00e1lne je aktu\u00e1lny Python 2 a Python 3. Hoci s\u00fa tieto verzie podobn\u00e9, existuj\u00fa tu rozdiely, ktor\u00e9 neumo\u017e\u0148uj\u00fa zbehnutie niektor\u00e9ho k\u00f3du pod oboma verziami. Python 3 je aktu\u00e1lnej\u0161\u00ed ale vzh\u013eadom na to, \u017ee ve\u013ea k\u00f3du je nap\u00edsan\u00e9ho e\u0161te v Python 2 je Python 2 st\u00e1le roz\u0161\u00edren\u00fd v mnoh\u00fdch aplik\u00e1ciach a len postupne je nahr\u00e1dzan\u00fd Pythonom 3."
    },
    {
     "cell_type": "markdown",
     "metadata": {},
     "source": "<h3> Spustenie Pythonu </h3> \n\nPython je potrebn\u00e9 pred pou\u017eit\u00edm nain\u0161talova\u0165 (plat\u00ed hlavne pre Windows napr. v Linuxe je s\u00fa\u010das\u0165ou syst\u00e9mu). Stiahnutie Pythona je mo\u017en\u00e9 na str\u00e1nke http://python.org/.\nN\u00e1jdete tam aj inform\u00e1cie k in\u0161tal\u00e1cii.\n\nDruh\u00e9 rie\u0161enie je pou\u017eitie Pythonu off-line. V\u00fdhodou je elimin\u00e1cia potreby in\u0161tal\u00e1cie a dostupnos\u0165 nez\u00e1visle od dan\u00e9ho po\u010d\u00edta\u010da. Na druhej strane je nev\u00fdhodou zn\u00ed\u017eenie r\u00fdchlosti a obmedzenie u\u017e\u00edvate\u013esk\u00e9ho rozhrania.\n\n\n\n    \n    "
    },
    {
     "cell_type": "markdown",
     "metadata": {},
     "source": "<h3> Python interpreter prompt </h3> \n\nPython sa v najjednoduch\u0161ej podobe sp\u00fa\u0161\u0165a cez termin\u00e1l potvrden\u00edm pr\u00edkazu: *python* resp. *python3*.\nPo otvoren\u00ed v termin\u00e1ly sa objav\u00ed inform\u00e1cia o spusten\u00ed Pythona a *>>>*. Spustil sa *interpreter*, ktor\u00fd umo\u017e\u0148uje spracova\u0165 a vykona\u0165 u\u017e\u00edvate\u013eom zadan\u00fd k\u00f3d. *>>>* v prvom riadku je *Python interpreter prompt* ktor\u00fd je ur\u010den\u00fd na zad\u00e1vanie pr\u00edkazov.\n\nPr\u00edkazy m\u00f4\u017eu by\u0165 zad\u00e1van\u00e9 postupne u\u017e\u00edvate\u013eom alebo m\u00f4\u017eu by\u0165 ulo\u017een\u00e9 v externom textovom s\u00fabore a presunut\u00e9 do interpretra \"naraz\". Z d\u00f4vodu relat\u00edvne nepraktick\u00e9ho sp\u00f4sobu zad\u00e1vania k\u00f3du do interpret\u00e1tora a vzh\u013eadom k n\u00e1ro\u010dnosti programovania vznikli rozhrania, ktor\u00e9 umo\u017e\u0148uj\u00fa zjednodu\u0161enie pr\u00e1ce program\u00e1tora pri tvorbe k\u00f3du - programu. Tieto rozhrania sa navz\u00e1jom odli\u0161uj\u00fa v poskytnut\u00fdch funkci\u00e1ch ale ich z\u00e1kladom je \u010dasto vytvoren\u00e9 grafick\u00e9 rozhranie, s\u00fa\u010das\u0165 textov\u00e9ho editora, zv\u00fdraz\u0148ovanie zad\u00e1van\u00e9ho textu vo vz\u0165ahu k funkcii v programe (napr. pozn\u00e1mka je zv\u00fdraznen\u00e1 odli\u0161ne ako premenn\u00e9 alebo funkcie ...), automatick\u00e9 doplnenie k\u00f3du, preh\u013ead vytvoren\u00fdch objektov, kontrola ch\u00fdb a in\u00e9.\n\nPre za\u010d\u00ednaj\u00faceho program\u00e1tora je prirodzen\u00e9 v po\u010diatkoch s\u00fastredenie sa na pochopenie jazyka a rozhranie nie je d\u00f4le\u017eit\u00e9, k\u00f3d je pomerne jednoduch\u00fd a pln\u00ed sk\u00f4r didaktick\u00fd \u00fa\u010del. Na druhej strane s rastom sk\u00fasenosti s jazykom a n\u00e1ro\u010dnosti tvoren\u00e9ho k\u00f3du vznik\u00e1 potreba v\u00fdberu vhodn\u00e9ho prostredia pre programovanie. T\u00e1to t\u00e9ma nie je jednoduch\u00e1 a pre v\u00fdber vhodn\u00e9ho prostredia je potrebn\u00e9 zv\u00e1\u017ei\u0165 viacer\u00e9 faktory, ktor\u00e9 program\u00e1tor za\u010dne vn\u00edma\u0165 pr\u00e1ve pri pr\u00e1ci s jazykom. Preto t\u00fato t\u00e9mu hoci je ve\u013emi d\u00f4le\u017eit\u00e1 nateraz nech\u00e1vame otvoren\u00fa a vr\u00e1time sa k nej nesk\u00f4r. \n"
    },
    {
     "cell_type": "markdown",
     "metadata": {},
     "source": "Uk\u00e1\u017eka termin\u00e1lu so spusten\u00fdm Pythonom s vykonan\u00fdmi pr\u00edkazmi v Pythone"
    },
    {
     "cell_type": "markdown",
     "metadata": {},
     "source": "<img src=\"files/Images_Kapitola_1/Terminal_zaklad.png\"; width=500px> "
    },
    {
     "cell_type": "markdown",
     "metadata": {},
     "source": "<img src=\"files/Images_Kapitola_1/Terminal_s_vysvetlenim.png\"; width=500px> "
    },
    {
     "cell_type": "markdown",
     "metadata": {},
     "source": "<a name='IPython_notebook'></a>IPython notebook\n------\nPr\u00e1ve pou\u017e\u00edvate IPython notebook. IPython je interkat\u00edvn\u00e9 prostredie pre Python. Ofici\u00e1lna str\u00e1nka pre z\u00edskanie inform\u00e1cii je http://ipython.org/.\nNotebook je forma prostredia be\u017eiaceho v internetovom prehliada\u010di vo form\u00e1te html. V\u00fdhodou je  \u013eahk\u00e1 prenosite\u013enos\u0165 cel\u00e9ho v\u00fdstupu bez potreby in\u0161tal\u00e1cie konkr\u00e9tnej aplik\u00e1cie. Napr\u00edklad u\u017e\u00edvate\u013e, ktor\u00fd nem\u00e1 nain\u0161talovan\u00fd IPython st\u00e1le m\u00f4\u017ee str\u00e1nku vidie\u0165 ak je exportovan\u00e1 do html (hoci nem\u00f4\u017ee vykona\u0165 Python pr\u00edkazy). Po vizu\u00e1lnej str\u00e1nke je taktie\u017e mo\u017en\u00e9 vyu\u017ei\u0165 v\u0161etky v\u00fdhody html form\u00e1tovania. Nev\u00fdhodou je, na druhej strane, strata niektor\u00fdch funkcional\u00edt oproti prostrediam be\u017eiacim priamo pod opera\u010dn\u00fdm syst\u00e9mom.\n\nTento sp\u00f4sob sme zvolili moment\u00e1lne ako najvhodnej\u0161\u00ed pre vstup do programovania. IPython notebook umo\u017enuje spoji\u0165 vysvet\u013euj\u00faci text priamo s vykonate\u013en\u00fdmi pr\u00edkazmi. V\u00fdsledkom je interakt\u00edvna \"u\u010debnica\" do ktorej si je mo\u017en\u00e9 robi\u0165 pozn\u00e1mky a experimentova\u0165 s Python pr\u00edkazmi. "
    },
    {
     "cell_type": "markdown",
     "metadata": {},
     "source": "Ako pou\u017e\u00edva\u0165 IPython notebook\n------\nIPython notebook sp\u00e1ja markdown jazyk pre form\u00e1tovanie textu a priestor pre skript. Markdown je s\u00fabor jednoduch\u00fdch pr\u00edkazov ktor\u00e9 u\u013eah\u010duj\u00fa form\u00e1tovanie html dokumentu. Viac o markdowne: http://daringfireball.net/projects/markdown/.\n\nJednotliv\u00e9 \u010dasti textu a k\u00f3du su umiestnen\u00e9 v *cells/bunk\u00e1ch*. Tieto bunky s\u00fa bu\u010f textov\u00e9 form\u00e1tovan\u00e9 cez markdown alebo python shell pre vykonanie Python pr\u00edkazov. V pr\u00edpade, \u017ee je v texte potrebn\u00e9 vykona\u0165 komplikovanej\u0161ie \u00fapravy - je mo\u017en\u00e9 vyu\u017ei\u0165 html k\u00f3d priamo v k\u00f3de Markdown bunky. Pre uk\u00e1\u017eku html \u0161trukt\u00fary tejto str\u00e1nky: zvo\u013ete Inspect Element kliknut\u00edm prav\u00fdm tla\u010didlom my\u0161i (v z\u00e1vislosti od internetov\u00e9ho prehliada\u010da a jazyka).\n\n"
    },
    {
     "cell_type": "markdown",
     "metadata": {},
     "source": "cloud.sagemath.org\n------\nPre elimin\u00e1ciu potreby in\u0161tal\u00e1cie IPython je vhodn\u00e9 pou\u017ei\u0165 slu\u017ebu na cloud.sagemath.org, kde je potrebn\u00e9 iba upload-n\u00fa\u0165 s\u00fabory vo form\u00e1te .ipynb a m\u00f4\u017eete priamo s nimi pracova\u0165. \n\nNotebooky su organizovan\u00e9 do projektov (Projects) a ka\u017ed\u00fd projekt obsahuje jednotliv\u00e9 listy. V s\u00faborovej zlo\u017eke projektu m\u00f4\u017eu by\u0165 aj viacero s\u00faborov, ktor\u00e9 priamo nemusia s\u00favisie\u0165 s IPythonom, napr.: obr\u00e1zky vo form\u00e1te *.png*.\n\nPopis z\u00e1kladn\u00e9ho prostredia IPython notebooka v cloud.sage.math je na nasleduj\u00facom obr\u00e1zku:"
    },
    {
     "cell_type": "markdown",
     "metadata": {},
     "source": "<img src=\"files/Images_Kapitola_1/IPython_notebook.png\"; width=500px> "
    },
    {
     "cell_type": "markdown",
     "metadata": {},
     "source": "<h3>Pozn\u00e1mka</h3>\n\nPre spustenie pr\u00edkladov v Pythone, ktor\u00e9 s\u00fa s\u00fa\u010das\u0165ou je potrebn\u00e9 v li\u0161te pre dan\u00fd list zvoli\u0165 *\"Cell\"* a *\"Run all\"* t\u00fdm spust\u00edte v\u0161etky skripty a nem\u00fasite ich sp\u00fa\u0161\u0165a\u0165 manu\u00e1lne po jednom. Tento proces m\u00f4\u017ee chv\u00ed\u013eu trva\u0165 v z\u00e1vislosti od po\u010dtu pr\u00edkazov na str\u00e1nke, preto je potrebn\u00e9 chv\u00ed\u013eu po\u010dka\u0165....\n\nK\u00f3d vykonan\u00fd v jendotliv\u00fdch bunk\u00e1ch je navz\u00e1jom prepojen\u00fd. Jednotliv\u00e9 listy (v na\u0161om pr\u00edpade Kapitoly) predstavuj\u00fa rovnak\u00e9 Python prostredie, text medzi k\u00f3dom je len \"kraj\u0161ia\" pozn\u00e1mka. Pr\u00edklad:"
    },
    {
     "cell_type": "code",
     "collapsed": false,
     "input": "A=1",
     "language": "python",
     "metadata": {},
     "outputs": [],
     "prompt_number": 1
    },
    {
     "cell_type": "code",
     "collapsed": false,
     "input": "print(A+1) # A bol zadefinovan\u00fd v predo\u0161lej bunke",
     "language": "python",
     "metadata": {},
     "outputs": [
      {
       "output_type": "stream",
       "stream": "stdout",
       "text": "2\n"
      }
     ],
     "prompt_number": 2
    },
    {
     "cell_type": "markdown",
     "metadata": {},
     "source": "**IN[]** ozna\u010duje poradie vykonan\u00fdch pr\u00edkazov. Toto prepojenie umo\u017e\u0148uje pou\u017ei\u0165 v\u00fdsledky z jednej bunky v nasleduj\u00facej ako bolo uveden\u00e9 v predo\u0161lom pr\u00edklade. Poradie buniek nemus\u00ed by\u0165 zhodn\u00e9 s porad\u00edm v liste. M\u00f4\u017eeme napr\u00edklad najprv spusti\u0165 bunku na konci a n\u00e1sledne bunky pred \u0148ou. D\u00f4le\u017eit\u00e1 je vn\u00fatorn\u00e1 logika obsahu programu vykon\u00e1van\u00e9ho v jednotliv\u00fdch bunk\u00e1ch. Na druhej strane, je vhodn\u00e9 dodr\u017eova\u0165 postupnos\u0165 buniek napr\u00edklad pri pou\u017eit\u00ed pr\u00edkazu \"Cell\" / \"Run all\". V tomto pr\u00edpade bud\u00fa bunky vykon\u00e1van\u00e9 postupne v porad\u00ed ako s\u00fa uveden\u00e9 v texte."
    },
    {
     "cell_type": "markdown",
     "metadata": {},
     "source": "Zdroj literat\u00fary\n------\nHlavn\u00fdm zdroj inform\u00e1cii pou\u017eit\u00fdch v t\u00fdchto notebookoch:\n\n*Byte of Python*; autor: Swaroop C H, 2013 dostupn\u00e1 http://files.swaroopch.com/python/byte_of_python.pdf\n\nIntroduction to Programming (using Python), an entire introductory Python course written by Eric Matthes, dostupn\u00fd na http://nbviewer.ipython.org/github/ehmatthes/intro_programming/blob/master/notebooks/index.ipynb. \n"
    }
   ],
   "metadata": {}
  }
 ]
}